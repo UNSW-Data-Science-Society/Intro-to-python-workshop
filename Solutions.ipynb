{
 "cells": [
  {
   "cell_type": "markdown",
   "id": "1c3b8042-3400-4ec9-b219-307d0859ba8b",
   "metadata": {},
   "source": [
    "# Tasks\n",
    "\n",
    "**Ex 1.** Use a loop to display elements from a list only if the index is odd.\n",
    "\n",
    "Given: `[10, 20, 30, 40, 50, 60, 70, 80, 90, 100]` \n",
    "\n",
    "Expected Output: `20 40 60 80 100`\n",
    "\n",
    "\n",
    "**Ex 2.** Given a character and a string from the user, replace all occurences of the character in the string with #.\n",
    "\n",
    "Given: character = \"J\", string = \"Julian\"\n",
    "\n",
    "Expected Output: \"#ulian\"\n",
    "\n",
    "**Ex.3** Remove the given fields from the dataset\n",
    "\n",
    "Given: `{'name': 'Julian', 'degree': 'Data Science and Decisions', 'WAM': 42, 'Academic Standing': 'Terrible'}`\n",
    "\n",
    "Expected Output: `{'name': 'Julian', 'degree': 'Data Science and Decisions'}`\n"
   ]
  },
  {
   "cell_type": "markdown",
   "id": "18fb11c7-519f-4f24-894a-378d95279867",
   "metadata": {},
   "source": [
    "## Exercise 1"
   ]
  },
  {
   "cell_type": "code",
   "execution_count": null,
   "id": "c39c6f10-8b98-48b1-a1f5-484ba63fa02c",
   "metadata": {},
   "outputs": [],
   "source": [
    "for i, num in enumerate(myList):\n",
    "  if i % 2 != 0:\n",
    "    print(num, end=\" \")"
   ]
  },
  {
   "cell_type": "markdown",
   "id": "e9d7f7ad-a7a6-44ae-b01f-3e4210c3ac83",
   "metadata": {},
   "source": [
    "## Exercise 2"
   ]
  },
  {
   "cell_type": "code",
   "execution_count": null,
   "id": "8a587359-9288-4140-a2be-b9932c94d0cb",
   "metadata": {},
   "outputs": [],
   "source": [
    "userInput = input(\"Enter a word/sentence: \")\n",
    "charToRemove = input(\"Enter the character to remove\")\n",
    "\n",
    "userInput.replace(charToRemove, \"#\")"
   ]
  },
  {
   "cell_type": "markdown",
   "id": "e771a3a1-9031-40d4-8756-2f3cc8a831f6",
   "metadata": {},
   "source": [
    "## Exercise 3"
   ]
  },
  {
   "cell_type": "code",
   "execution_count": null,
   "id": "dff60685-5734-4a39-bad3-b026fcce5311",
   "metadata": {},
   "outputs": [],
   "source": [
    "for field in fields:\n",
    "    unswDataset.pop(field)\n",
    "unswDataset"
   ]
  }
 ],
 "metadata": {
  "kernelspec": {
   "display_name": "Python 3 (ipykernel)",
   "language": "python",
   "name": "python3"
  },
  "language_info": {
   "codemirror_mode": {
    "name": "ipython",
    "version": 3
   },
   "file_extension": ".py",
   "mimetype": "text/x-python",
   "name": "python",
   "nbconvert_exporter": "python",
   "pygments_lexer": "ipython3",
   "version": "3.10.1"
  }
 },
 "nbformat": 4,
 "nbformat_minor": 5
}
