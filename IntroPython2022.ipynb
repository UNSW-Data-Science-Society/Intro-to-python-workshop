{
 "cells": [
  {
   "cell_type": "markdown",
   "id": "curious-collection",
   "metadata": {},
   "source": [
    "# Intro to Python 2022\n",
    "\n",
    "By Julian Garratt, Aarthi Kumararaja and Noah Rubin\n"
   ]
  },
  {
   "cell_type": "markdown",
   "id": "virtual-shoulder",
   "metadata": {},
   "source": [
    "###  Print/input statements:"
   ]
  },
  {
   "cell_type": "code",
   "execution_count": null,
   "id": "permanent-surgery",
   "metadata": {},
   "outputs": [],
   "source": []
  },
  {
   "cell_type": "code",
   "execution_count": null,
   "id": "quick-foster",
   "metadata": {},
   "outputs": [],
   "source": []
  },
  {
   "cell_type": "markdown",
   "id": "continued-canadian",
   "metadata": {},
   "source": [
    "### Variables/data types"
   ]
  },
  {
   "cell_type": "code",
   "execution_count": null,
   "id": "prepared-particle",
   "metadata": {},
   "outputs": [],
   "source": []
  },
  {
   "cell_type": "code",
   "execution_count": null,
   "id": "associate-population",
   "metadata": {},
   "outputs": [],
   "source": []
  },
  {
   "cell_type": "markdown",
   "id": "whole-finger",
   "metadata": {},
   "source": [
    "### Aside: Pythonic Syntactic Sugar"
   ]
  },
  {
   "cell_type": "code",
   "execution_count": null,
   "id": "arabic-madrid",
   "metadata": {},
   "outputs": [],
   "source": []
  },
  {
   "cell_type": "code",
   "execution_count": null,
   "id": "healthy-weather",
   "metadata": {},
   "outputs": [],
   "source": []
  },
  {
   "cell_type": "markdown",
   "id": "frank-there",
   "metadata": {},
   "source": [
    "### Control structures"
   ]
  },
  {
   "cell_type": "code",
   "execution_count": null,
   "id": "proved-dakota",
   "metadata": {},
   "outputs": [],
   "source": []
  },
  {
   "cell_type": "markdown",
   "id": "golden-retailer",
   "metadata": {},
   "source": [
    "### Functions\n",
    "\n",
    "- Simply put, functions are chunks of code that are only run when called\n",
    "- They can be used throughout your program in various places, whether is to perform a task or calculation\n",
    "- You can pass function **parameters** if you wish, but it is not essential and there are situations where you will not need them\n",
    "- Functions can also return data to you, but they don't always have to do this.\n",
    "- The truly remarkable thing about functions in python is that they generate multiple outputs!!"
   ]
  },
  {
   "cell_type": "markdown",
   "id": "streaming-istanbul",
   "metadata": {},
   "source": [
    "#### Task 🧠: Create a function that does absolutely nothing"
   ]
  },
  {
   "cell_type": "code",
   "execution_count": null,
   "id": "entertaining-malta",
   "metadata": {},
   "outputs": [],
   "source": [
    "def my_func():\n",
    "    pass"
   ]
  },
  {
   "cell_type": "markdown",
   "id": "australian-preference",
   "metadata": {},
   "source": [
    "#### Task 🧠: Create a function that extracts all the names that begin with [letter]:"
   ]
  },
  {
   "cell_type": "code",
   "execution_count": 27,
   "id": "inappropriate-battle",
   "metadata": {},
   "outputs": [],
   "source": [
    "def extract_names(my_list, letter):\n",
    "    \"\"\"Extract everyone who begains with [letter] and places into a new list\"\"\"\n",
    "    new_list = []\n",
    "    for n in my_list:\n",
    "        # Strip whitespace in case we get a name like '   john  ' and then convert to title so that we don't get 'john'\n",
    "        name = n.strip().title()\n",
    "        if name.startswith(letter.upper()):\n",
    "            new_list.append(name)\n",
    "    return new_list"
   ]
  },
  {
   "cell_type": "code",
   "execution_count": 29,
   "id": "loaded-month",
   "metadata": {},
   "outputs": [
    {
     "data": {
      "text/plain": [
       "['Noah']"
      ]
     },
     "execution_count": 29,
     "metadata": {},
     "output_type": "execute_result"
    }
   ],
   "source": [
    "extract_names(['   John     ', 'Stacey', 'jack  ', 'Noah'], 'N')"
   ]
  },
  {
   "cell_type": "markdown",
   "id": "alone-child",
   "metadata": {},
   "source": [
    "#### Task 🧠: Create a function that sends a this long message:\n",
    "\n",
    "---\n",
    "\n",
    "\"Dear [NAME],\n",
    "\n",
    "I recently applied for a job opening at [COMPANY NAME] for the position of [POSITION NAME] on your online career site.\n",
    "\n",
    "I’d love to set up a time to schedule a call and talk about the position and my experience. I have some availability next week would really appreciate any opportunity to commmunicate about this further with you.\n",
    "\n",
    "Sincerely,\n",
    "\n",
    "[YOUR NAME]\""
   ]
  },
  {
   "cell_type": "code",
   "execution_count": 32,
   "id": "micro-harassment",
   "metadata": {},
   "outputs": [],
   "source": [
    "def structure_email(hiring_manager, company, position_name, your_name):\n",
    "    \"\"\"Structures an email\"\"\"\n",
    "    intro = f\"Dear {hiring_manager},\\nI recently applied for a job opening at {company} for the position of {position_name} on your online career site.\\n\\n\"\n",
    "    body = f\"I’d love to set up a time to schedule a call and talk about the my experience, and would really appreciate any opportunity to commmunicate about this further with you\\n\\n\"\n",
    "    conclusion = f\"Sincerely,\\n{your_name}\"\n",
    "    \n",
    "    return intro + body + conclusion\n"
   ]
  },
  {
   "cell_type": "code",
   "execution_count": 33,
   "id": "serial-steps",
   "metadata": {},
   "outputs": [
    {
     "name": "stdout",
     "output_type": "stream",
     "text": [
      "Dear Dr. Smith,\n",
      "I recently applied for a job opening at Nike for the position of Data Scientist on your online career site.\n",
      "\n",
      "I’d love to set up a time to schedule a call and talk about the my experience, and would really appreciate any opportunity to commmunicate about this further with you\n",
      "\n",
      "Sincerely,\n",
      "Noah Rubin\n"
     ]
    }
   ],
   "source": [
    "print(structure_email('Dr. Smith', 'Nike', 'Data Scientist', 'Noah Rubin'))"
   ]
  },
  {
   "cell_type": "markdown",
   "id": "waiting-secondary",
   "metadata": {},
   "source": [
    "### External Libraries:\n",
    "- Pandas is arguably the gold standard for analysing small-medium sized data sets in python\n",
    "- Um, why not just use excel?! \n",
    "- The problem is that excel can only handle 1,048,576 rows and 16,384 columns in a worksheet, so it really struggles as the amount of data increases\n",
    "- Pandas can handle millions of rows with ease, and is far more versatile too as you are not just restricted to point anbd click type software\n",
    "\n",
    "Here we will **very** gently introduce pandas and how knowledge of basic python can go a long way"
   ]
  },
  {
   "cell_type": "code",
   "execution_count": null,
   "id": "compressed-scholar",
   "metadata": {},
   "outputs": [],
   "source": [
    "# In the line below, you might need to delete the '#' symbol and run the code\n",
    "# !pip install pandas "
   ]
  },
  {
   "cell_type": "code",
   "execution_count": 34,
   "id": "religious-transcription",
   "metadata": {},
   "outputs": [],
   "source": [
    "import pandas as pd"
   ]
  },
  {
   "cell_type": "code",
   "execution_count": 35,
   "id": "alone-plate",
   "metadata": {},
   "outputs": [
    {
     "data": {
      "text/html": [
       "<div>\n",
       "<style scoped>\n",
       "    .dataframe tbody tr th:only-of-type {\n",
       "        vertical-align: middle;\n",
       "    }\n",
       "\n",
       "    .dataframe tbody tr th {\n",
       "        vertical-align: top;\n",
       "    }\n",
       "\n",
       "    .dataframe thead th {\n",
       "        text-align: right;\n",
       "    }\n",
       "</style>\n",
       "<table border=\"1\" class=\"dataframe\">\n",
       "  <thead>\n",
       "    <tr style=\"text-align: right;\">\n",
       "      <th></th>\n",
       "      <th>Order Date</th>\n",
       "      <th>City</th>\n",
       "      <th>Category</th>\n",
       "      <th>Sub-Category</th>\n",
       "      <th>Product Name</th>\n",
       "      <th>Sales</th>\n",
       "      <th>Quantity</th>\n",
       "    </tr>\n",
       "  </thead>\n",
       "  <tbody>\n",
       "    <tr>\n",
       "      <th>0</th>\n",
       "      <td>2016-11-08</td>\n",
       "      <td>Henderson</td>\n",
       "      <td>Furniture</td>\n",
       "      <td>Bookcases</td>\n",
       "      <td>Bush Somerset Collection Bookcase</td>\n",
       "      <td>261.9600</td>\n",
       "      <td>2</td>\n",
       "    </tr>\n",
       "    <tr>\n",
       "      <th>1</th>\n",
       "      <td>2016-11-08</td>\n",
       "      <td>Henderson</td>\n",
       "      <td>Furniture</td>\n",
       "      <td>Chairs</td>\n",
       "      <td>Hon Deluxe Fabric Upholstered Stacking Chairs,...</td>\n",
       "      <td>731.9400</td>\n",
       "      <td>3</td>\n",
       "    </tr>\n",
       "    <tr>\n",
       "      <th>2</th>\n",
       "      <td>2016-06-12</td>\n",
       "      <td>Los Angeles</td>\n",
       "      <td>Office Supplies</td>\n",
       "      <td>Labels</td>\n",
       "      <td>Self-Adhesive Address Labels for Typewriters b...</td>\n",
       "      <td>14.6200</td>\n",
       "      <td>2</td>\n",
       "    </tr>\n",
       "    <tr>\n",
       "      <th>3</th>\n",
       "      <td>2015-10-11</td>\n",
       "      <td>Fort Lauderdale</td>\n",
       "      <td>Furniture</td>\n",
       "      <td>Tables</td>\n",
       "      <td>Bretford CR4500 Series Slim Rectangular Table</td>\n",
       "      <td>957.5775</td>\n",
       "      <td>5</td>\n",
       "    </tr>\n",
       "    <tr>\n",
       "      <th>4</th>\n",
       "      <td>2015-10-11</td>\n",
       "      <td>Fort Lauderdale</td>\n",
       "      <td>Office Supplies</td>\n",
       "      <td>Storage</td>\n",
       "      <td>Eldon Fold 'N Roll Cart System</td>\n",
       "      <td>22.3680</td>\n",
       "      <td>2</td>\n",
       "    </tr>\n",
       "  </tbody>\n",
       "</table>\n",
       "</div>"
      ],
      "text/plain": [
       "   Order Date             City         Category Sub-Category  \\\n",
       "0  2016-11-08        Henderson        Furniture    Bookcases   \n",
       "1  2016-11-08        Henderson        Furniture       Chairs   \n",
       "2  2016-06-12      Los Angeles  Office Supplies       Labels   \n",
       "3  2015-10-11  Fort Lauderdale        Furniture       Tables   \n",
       "4  2015-10-11  Fort Lauderdale  Office Supplies      Storage   \n",
       "\n",
       "                                        Product Name     Sales  Quantity  \n",
       "0                  Bush Somerset Collection Bookcase  261.9600         2  \n",
       "1  Hon Deluxe Fabric Upholstered Stacking Chairs,...  731.9400         3  \n",
       "2  Self-Adhesive Address Labels for Typewriters b...   14.6200         2  \n",
       "3      Bretford CR4500 Series Slim Rectangular Table  957.5775         5  \n",
       "4                     Eldon Fold 'N Roll Cart System   22.3680         2  "
      ]
     },
     "execution_count": 35,
     "metadata": {},
     "output_type": "execute_result"
    }
   ],
   "source": [
    "orders = pd.read_csv('store.csv')\n",
    "orders.head()"
   ]
  },
  {
   "cell_type": "markdown",
   "id": "functioning-tuning",
   "metadata": {},
   "source": [
    "#### Task 🧠: \n",
    "Select only the `City` and `Sub-Category` columns and display them to the screen"
   ]
  },
  {
   "cell_type": "code",
   "execution_count": 36,
   "id": "completed-milan",
   "metadata": {},
   "outputs": [
    {
     "data": {
      "text/html": [
       "<div>\n",
       "<style scoped>\n",
       "    .dataframe tbody tr th:only-of-type {\n",
       "        vertical-align: middle;\n",
       "    }\n",
       "\n",
       "    .dataframe tbody tr th {\n",
       "        vertical-align: top;\n",
       "    }\n",
       "\n",
       "    .dataframe thead th {\n",
       "        text-align: right;\n",
       "    }\n",
       "</style>\n",
       "<table border=\"1\" class=\"dataframe\">\n",
       "  <thead>\n",
       "    <tr style=\"text-align: right;\">\n",
       "      <th></th>\n",
       "      <th>City</th>\n",
       "      <th>Sub-Category</th>\n",
       "    </tr>\n",
       "  </thead>\n",
       "  <tbody>\n",
       "    <tr>\n",
       "      <th>0</th>\n",
       "      <td>Henderson</td>\n",
       "      <td>Bookcases</td>\n",
       "    </tr>\n",
       "    <tr>\n",
       "      <th>1</th>\n",
       "      <td>Henderson</td>\n",
       "      <td>Chairs</td>\n",
       "    </tr>\n",
       "    <tr>\n",
       "      <th>2</th>\n",
       "      <td>Los Angeles</td>\n",
       "      <td>Labels</td>\n",
       "    </tr>\n",
       "    <tr>\n",
       "      <th>3</th>\n",
       "      <td>Fort Lauderdale</td>\n",
       "      <td>Tables</td>\n",
       "    </tr>\n",
       "    <tr>\n",
       "      <th>4</th>\n",
       "      <td>Fort Lauderdale</td>\n",
       "      <td>Storage</td>\n",
       "    </tr>\n",
       "    <tr>\n",
       "      <th>...</th>\n",
       "      <td>...</td>\n",
       "      <td>...</td>\n",
       "    </tr>\n",
       "    <tr>\n",
       "      <th>9989</th>\n",
       "      <td>Miami</td>\n",
       "      <td>Furnishings</td>\n",
       "    </tr>\n",
       "    <tr>\n",
       "      <th>9990</th>\n",
       "      <td>Costa Mesa</td>\n",
       "      <td>Furnishings</td>\n",
       "    </tr>\n",
       "    <tr>\n",
       "      <th>9991</th>\n",
       "      <td>Costa Mesa</td>\n",
       "      <td>Phones</td>\n",
       "    </tr>\n",
       "    <tr>\n",
       "      <th>9992</th>\n",
       "      <td>Costa Mesa</td>\n",
       "      <td>Paper</td>\n",
       "    </tr>\n",
       "    <tr>\n",
       "      <th>9993</th>\n",
       "      <td>Westminster</td>\n",
       "      <td>Appliances</td>\n",
       "    </tr>\n",
       "  </tbody>\n",
       "</table>\n",
       "<p>9994 rows × 2 columns</p>\n",
       "</div>"
      ],
      "text/plain": [
       "                 City Sub-Category\n",
       "0           Henderson    Bookcases\n",
       "1           Henderson       Chairs\n",
       "2         Los Angeles       Labels\n",
       "3     Fort Lauderdale       Tables\n",
       "4     Fort Lauderdale      Storage\n",
       "...               ...          ...\n",
       "9989            Miami  Furnishings\n",
       "9990       Costa Mesa  Furnishings\n",
       "9991       Costa Mesa       Phones\n",
       "9992       Costa Mesa        Paper\n",
       "9993      Westminster   Appliances\n",
       "\n",
       "[9994 rows x 2 columns]"
      ]
     },
     "execution_count": 36,
     "metadata": {},
     "output_type": "execute_result"
    }
   ],
   "source": [
    "orders[['City', 'Sub-Category']]"
   ]
  },
  {
   "cell_type": "markdown",
   "id": "ongoing-mechanics",
   "metadata": {},
   "source": [
    "#### Task 🧠: \n",
    "Create a column called `Revenue` that multiplies `Sales` and `Quantity`"
   ]
  },
  {
   "cell_type": "code",
   "execution_count": 37,
   "id": "completed-funds",
   "metadata": {},
   "outputs": [],
   "source": [
    "orders['Revenue'] = orders['Sales'] * orders['Quantity']"
   ]
  },
  {
   "cell_type": "code",
   "execution_count": 38,
   "id": "endless-halloween",
   "metadata": {},
   "outputs": [
    {
     "data": {
      "text/html": [
       "<div>\n",
       "<style scoped>\n",
       "    .dataframe tbody tr th:only-of-type {\n",
       "        vertical-align: middle;\n",
       "    }\n",
       "\n",
       "    .dataframe tbody tr th {\n",
       "        vertical-align: top;\n",
       "    }\n",
       "\n",
       "    .dataframe thead th {\n",
       "        text-align: right;\n",
       "    }\n",
       "</style>\n",
       "<table border=\"1\" class=\"dataframe\">\n",
       "  <thead>\n",
       "    <tr style=\"text-align: right;\">\n",
       "      <th></th>\n",
       "      <th>Order Date</th>\n",
       "      <th>City</th>\n",
       "      <th>Category</th>\n",
       "      <th>Sub-Category</th>\n",
       "      <th>Product Name</th>\n",
       "      <th>Sales</th>\n",
       "      <th>Quantity</th>\n",
       "      <th>Revenue</th>\n",
       "    </tr>\n",
       "  </thead>\n",
       "  <tbody>\n",
       "    <tr>\n",
       "      <th>0</th>\n",
       "      <td>2016-11-08</td>\n",
       "      <td>Henderson</td>\n",
       "      <td>Furniture</td>\n",
       "      <td>Bookcases</td>\n",
       "      <td>Bush Somerset Collection Bookcase</td>\n",
       "      <td>261.9600</td>\n",
       "      <td>2</td>\n",
       "      <td>523.9200</td>\n",
       "    </tr>\n",
       "    <tr>\n",
       "      <th>1</th>\n",
       "      <td>2016-11-08</td>\n",
       "      <td>Henderson</td>\n",
       "      <td>Furniture</td>\n",
       "      <td>Chairs</td>\n",
       "      <td>Hon Deluxe Fabric Upholstered Stacking Chairs,...</td>\n",
       "      <td>731.9400</td>\n",
       "      <td>3</td>\n",
       "      <td>2195.8200</td>\n",
       "    </tr>\n",
       "    <tr>\n",
       "      <th>2</th>\n",
       "      <td>2016-06-12</td>\n",
       "      <td>Los Angeles</td>\n",
       "      <td>Office Supplies</td>\n",
       "      <td>Labels</td>\n",
       "      <td>Self-Adhesive Address Labels for Typewriters b...</td>\n",
       "      <td>14.6200</td>\n",
       "      <td>2</td>\n",
       "      <td>29.2400</td>\n",
       "    </tr>\n",
       "    <tr>\n",
       "      <th>3</th>\n",
       "      <td>2015-10-11</td>\n",
       "      <td>Fort Lauderdale</td>\n",
       "      <td>Furniture</td>\n",
       "      <td>Tables</td>\n",
       "      <td>Bretford CR4500 Series Slim Rectangular Table</td>\n",
       "      <td>957.5775</td>\n",
       "      <td>5</td>\n",
       "      <td>4787.8875</td>\n",
       "    </tr>\n",
       "    <tr>\n",
       "      <th>4</th>\n",
       "      <td>2015-10-11</td>\n",
       "      <td>Fort Lauderdale</td>\n",
       "      <td>Office Supplies</td>\n",
       "      <td>Storage</td>\n",
       "      <td>Eldon Fold 'N Roll Cart System</td>\n",
       "      <td>22.3680</td>\n",
       "      <td>2</td>\n",
       "      <td>44.7360</td>\n",
       "    </tr>\n",
       "  </tbody>\n",
       "</table>\n",
       "</div>"
      ],
      "text/plain": [
       "   Order Date             City         Category Sub-Category  \\\n",
       "0  2016-11-08        Henderson        Furniture    Bookcases   \n",
       "1  2016-11-08        Henderson        Furniture       Chairs   \n",
       "2  2016-06-12      Los Angeles  Office Supplies       Labels   \n",
       "3  2015-10-11  Fort Lauderdale        Furniture       Tables   \n",
       "4  2015-10-11  Fort Lauderdale  Office Supplies      Storage   \n",
       "\n",
       "                                        Product Name     Sales  Quantity  \\\n",
       "0                  Bush Somerset Collection Bookcase  261.9600         2   \n",
       "1  Hon Deluxe Fabric Upholstered Stacking Chairs,...  731.9400         3   \n",
       "2  Self-Adhesive Address Labels for Typewriters b...   14.6200         2   \n",
       "3      Bretford CR4500 Series Slim Rectangular Table  957.5775         5   \n",
       "4                     Eldon Fold 'N Roll Cart System   22.3680         2   \n",
       "\n",
       "     Revenue  \n",
       "0   523.9200  \n",
       "1  2195.8200  \n",
       "2    29.2400  \n",
       "3  4787.8875  \n",
       "4    44.7360  "
      ]
     },
     "execution_count": 38,
     "metadata": {},
     "output_type": "execute_result"
    }
   ],
   "source": [
    "orders.head()"
   ]
  },
  {
   "cell_type": "markdown",
   "id": "expressed-belly",
   "metadata": {},
   "source": [
    "Find all Furtinute Sales"
   ]
  },
  {
   "cell_type": "markdown",
   "id": "sunrise-teaching",
   "metadata": {},
   "source": [
    "#### Task 🧠: \n",
    "Use python dictionaries to rename `Order Date` to `Date` and `Product Name` to product"
   ]
  },
  {
   "cell_type": "code",
   "execution_count": 39,
   "id": "collected-fashion",
   "metadata": {},
   "outputs": [],
   "source": [
    "orders = order.rename(columns={'Order Date': 'Date', 'Product Name': 'Product'})"
   ]
  },
  {
   "cell_type": "code",
   "execution_count": 40,
   "id": "consistent-broadcast",
   "metadata": {},
   "outputs": [
    {
     "data": {
      "text/html": [
       "<div>\n",
       "<style scoped>\n",
       "    .dataframe tbody tr th:only-of-type {\n",
       "        vertical-align: middle;\n",
       "    }\n",
       "\n",
       "    .dataframe tbody tr th {\n",
       "        vertical-align: top;\n",
       "    }\n",
       "\n",
       "    .dataframe thead th {\n",
       "        text-align: right;\n",
       "    }\n",
       "</style>\n",
       "<table border=\"1\" class=\"dataframe\">\n",
       "  <thead>\n",
       "    <tr style=\"text-align: right;\">\n",
       "      <th></th>\n",
       "      <th>Date</th>\n",
       "      <th>City</th>\n",
       "      <th>Category</th>\n",
       "      <th>Sub-Category</th>\n",
       "      <th>Product</th>\n",
       "      <th>Sales</th>\n",
       "      <th>Quantity</th>\n",
       "    </tr>\n",
       "  </thead>\n",
       "  <tbody>\n",
       "    <tr>\n",
       "      <th>0</th>\n",
       "      <td>2016-11-08</td>\n",
       "      <td>Henderson</td>\n",
       "      <td>Furniture</td>\n",
       "      <td>Bookcases</td>\n",
       "      <td>Bush Somerset Collection Bookcase</td>\n",
       "      <td>261.9600</td>\n",
       "      <td>2</td>\n",
       "    </tr>\n",
       "    <tr>\n",
       "      <th>1</th>\n",
       "      <td>2016-11-08</td>\n",
       "      <td>Henderson</td>\n",
       "      <td>Furniture</td>\n",
       "      <td>Chairs</td>\n",
       "      <td>Hon Deluxe Fabric Upholstered Stacking Chairs,...</td>\n",
       "      <td>731.9400</td>\n",
       "      <td>3</td>\n",
       "    </tr>\n",
       "    <tr>\n",
       "      <th>2</th>\n",
       "      <td>2016-06-12</td>\n",
       "      <td>Los Angeles</td>\n",
       "      <td>Office Supplies</td>\n",
       "      <td>Labels</td>\n",
       "      <td>Self-Adhesive Address Labels for Typewriters b...</td>\n",
       "      <td>14.6200</td>\n",
       "      <td>2</td>\n",
       "    </tr>\n",
       "    <tr>\n",
       "      <th>3</th>\n",
       "      <td>2015-10-11</td>\n",
       "      <td>Fort Lauderdale</td>\n",
       "      <td>Furniture</td>\n",
       "      <td>Tables</td>\n",
       "      <td>Bretford CR4500 Series Slim Rectangular Table</td>\n",
       "      <td>957.5775</td>\n",
       "      <td>5</td>\n",
       "    </tr>\n",
       "    <tr>\n",
       "      <th>4</th>\n",
       "      <td>2015-10-11</td>\n",
       "      <td>Fort Lauderdale</td>\n",
       "      <td>Office Supplies</td>\n",
       "      <td>Storage</td>\n",
       "      <td>Eldon Fold 'N Roll Cart System</td>\n",
       "      <td>22.3680</td>\n",
       "      <td>2</td>\n",
       "    </tr>\n",
       "    <tr>\n",
       "      <th>...</th>\n",
       "      <td>...</td>\n",
       "      <td>...</td>\n",
       "      <td>...</td>\n",
       "      <td>...</td>\n",
       "      <td>...</td>\n",
       "      <td>...</td>\n",
       "      <td>...</td>\n",
       "    </tr>\n",
       "    <tr>\n",
       "      <th>9989</th>\n",
       "      <td>2014-01-21</td>\n",
       "      <td>Miami</td>\n",
       "      <td>Furniture</td>\n",
       "      <td>Furnishings</td>\n",
       "      <td>Ultra Door Pull Handle</td>\n",
       "      <td>25.2480</td>\n",
       "      <td>3</td>\n",
       "    </tr>\n",
       "    <tr>\n",
       "      <th>9990</th>\n",
       "      <td>2017-02-26</td>\n",
       "      <td>Costa Mesa</td>\n",
       "      <td>Furniture</td>\n",
       "      <td>Furnishings</td>\n",
       "      <td>Tenex B1-RE Series Chair Mats for Low Pile Car...</td>\n",
       "      <td>91.9600</td>\n",
       "      <td>2</td>\n",
       "    </tr>\n",
       "    <tr>\n",
       "      <th>9991</th>\n",
       "      <td>2017-02-26</td>\n",
       "      <td>Costa Mesa</td>\n",
       "      <td>Technology</td>\n",
       "      <td>Phones</td>\n",
       "      <td>Aastra 57i VoIP phone</td>\n",
       "      <td>258.5760</td>\n",
       "      <td>2</td>\n",
       "    </tr>\n",
       "    <tr>\n",
       "      <th>9992</th>\n",
       "      <td>2017-02-26</td>\n",
       "      <td>Costa Mesa</td>\n",
       "      <td>Office Supplies</td>\n",
       "      <td>Paper</td>\n",
       "      <td>It's Hot Message Books with Stickers, 2 3/4\" x 5\"</td>\n",
       "      <td>29.6000</td>\n",
       "      <td>4</td>\n",
       "    </tr>\n",
       "    <tr>\n",
       "      <th>9993</th>\n",
       "      <td>2017-05-04</td>\n",
       "      <td>Westminster</td>\n",
       "      <td>Office Supplies</td>\n",
       "      <td>Appliances</td>\n",
       "      <td>Acco 7-Outlet Masterpiece Power Center, Wihtou...</td>\n",
       "      <td>243.1600</td>\n",
       "      <td>2</td>\n",
       "    </tr>\n",
       "  </tbody>\n",
       "</table>\n",
       "<p>9994 rows × 7 columns</p>\n",
       "</div>"
      ],
      "text/plain": [
       "           Date             City         Category Sub-Category  \\\n",
       "0    2016-11-08        Henderson        Furniture    Bookcases   \n",
       "1    2016-11-08        Henderson        Furniture       Chairs   \n",
       "2    2016-06-12      Los Angeles  Office Supplies       Labels   \n",
       "3    2015-10-11  Fort Lauderdale        Furniture       Tables   \n",
       "4    2015-10-11  Fort Lauderdale  Office Supplies      Storage   \n",
       "...         ...              ...              ...          ...   \n",
       "9989 2014-01-21            Miami        Furniture  Furnishings   \n",
       "9990 2017-02-26       Costa Mesa        Furniture  Furnishings   \n",
       "9991 2017-02-26       Costa Mesa       Technology       Phones   \n",
       "9992 2017-02-26       Costa Mesa  Office Supplies        Paper   \n",
       "9993 2017-05-04      Westminster  Office Supplies   Appliances   \n",
       "\n",
       "                                                Product     Sales  Quantity  \n",
       "0                     Bush Somerset Collection Bookcase  261.9600         2  \n",
       "1     Hon Deluxe Fabric Upholstered Stacking Chairs,...  731.9400         3  \n",
       "2     Self-Adhesive Address Labels for Typewriters b...   14.6200         2  \n",
       "3         Bretford CR4500 Series Slim Rectangular Table  957.5775         5  \n",
       "4                        Eldon Fold 'N Roll Cart System   22.3680         2  \n",
       "...                                                 ...       ...       ...  \n",
       "9989                             Ultra Door Pull Handle   25.2480         3  \n",
       "9990  Tenex B1-RE Series Chair Mats for Low Pile Car...   91.9600         2  \n",
       "9991                              Aastra 57i VoIP phone  258.5760         2  \n",
       "9992  It's Hot Message Books with Stickers, 2 3/4\" x 5\"   29.6000         4  \n",
       "9993  Acco 7-Outlet Masterpiece Power Center, Wihtou...  243.1600         2  \n",
       "\n",
       "[9994 rows x 7 columns]"
      ]
     },
     "execution_count": 40,
     "metadata": {},
     "output_type": "execute_result"
    }
   ],
   "source": [
    "or"
   ]
  },
  {
   "cell_type": "markdown",
   "id": "relative-question",
   "metadata": {},
   "source": []
  }
 ],
 "metadata": {
  "kernelspec": {
   "display_name": "Python 3",
   "language": "python",
   "name": "python3"
  },
  "language_info": {
   "codemirror_mode": {
    "name": "ipython",
    "version": 3
   },
   "file_extension": ".py",
   "mimetype": "text/x-python",
   "name": "python",
   "nbconvert_exporter": "python",
   "pygments_lexer": "ipython3",
   "version": "3.8.2"
  }
 },
 "nbformat": 4,
 "nbformat_minor": 5
}
