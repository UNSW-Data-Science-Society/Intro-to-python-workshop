{
 "cells": [
  {
   "cell_type": "markdown",
   "id": "digital-synthetic",
   "metadata": {
    "id": "digital-synthetic"
   },
   "source": [
    "# Intro to Python 2022\n",
    "\n",
    "By Julian Garratt, Aarthi Kumararaja and Noah Rubin\n"
   ]
  },
  {
   "cell_type": "markdown",
   "id": "worst-poetry",
   "metadata": {
    "id": "worst-poetry"
   },
   "source": [
    "###  Print/input statements:"
   ]
  },
  {
   "cell_type": "markdown",
   "id": "vLTgvUA7GGOe",
   "metadata": {
    "id": "vLTgvUA7GGOe"
   },
   "source": [
    "Printing to stdout and getting input from stdin is one of the most fundamental operations in Python.\n",
    "\n",
    "It's the bridge between our program and the outside world!!"
   ]
  },
  {
   "cell_type": "code",
   "execution_count": 1,
   "id": "sustained-outside",
   "metadata": {
    "id": "sustained-outside",
    "tags": []
   },
   "outputs": [
    {
     "name": "stdout",
     "output_type": "stream",
     "text": [
      "Hello World\n"
     ]
    }
   ],
   "source": [
    "# Let's run our first print statement:\n",
    "print(\"Hello World\")"
   ]
  },
  {
   "cell_type": "code",
   "execution_count": 2,
   "id": "aboriginal-sherman",
   "metadata": {
    "id": "aboriginal-sherman"
   },
   "outputs": [
    {
     "name": "stdout",
     "output_type": "stream",
     "text": [
      "Type here!: hgfd\n",
      "You Typed: hgfd\n"
     ]
    }
   ],
   "source": [
    "# Let's get some input from the user!\n",
    "userInput = input(\"Type here!: \")\n",
    "print(\"You Typed:\", userInput)"
   ]
  },
  {
   "cell_type": "code",
   "execution_count": 3,
   "id": "YVIsqyw0H1Cp",
   "metadata": {
    "id": "YVIsqyw0H1Cp"
   },
   "outputs": [
    {
     "ename": "SyntaxError",
     "evalue": "invalid syntax (<ipython-input-3-bd6e6dddea5c>, line 2)",
     "output_type": "error",
     "traceback": [
      "\u001b[0;36m  File \u001b[0;32m\"<ipython-input-3-bd6e6dddea5c>\"\u001b[0;36m, line \u001b[0;32m2\u001b[0m\n\u001b[0;31m    print(\"Where\"s the error\")\u001b[0m\n\u001b[0m                 ^\u001b[0m\n\u001b[0;31mSyntaxError\u001b[0m\u001b[0;31m:\u001b[0m invalid syntax\n"
     ]
    }
   ],
   "source": [
    "# Spot the error....\n",
    "print(\"Where\"s the error\")"
   ]
  },
  {
   "cell_type": "markdown",
   "id": "gueS90r7Idcs",
   "metadata": {
    "id": "gueS90r7Idcs"
   },
   "source": [
    "**Python Tip!!**\n",
    "\n",
    "String interpolation is super handy if you want to embed a variable in a string."
   ]
  },
  {
   "cell_type": "code",
   "execution_count": 4,
   "id": "BDKpk0cdIwSp",
   "metadata": {
    "id": "BDKpk0cdIwSp"
   },
   "outputs": [
    {
     "name": "stdout",
     "output_type": "stream",
     "text": [
      "Type something: gfds\n",
      "You typed gfds, which can be displayed using .format()\n",
      "You typed gfds, which can be displayed using f-strings\n"
     ]
    }
   ],
   "source": [
    "foo = input(\"Type something: \")\n",
    "\n",
    "# .format()\n",
    "print(\"You typed {}, which can be displayed using .format()\".format(foo))\n",
    "\n",
    "# f-strings\n",
    "print(f\"You typed {foo}, which can be displayed using f-strings\")"
   ]
  },
  {
   "cell_type": "markdown",
   "id": "controlling-bahamas",
   "metadata": {
    "id": "controlling-bahamas"
   },
   "source": [
    "### Variables, data types & Arithmetic Operators"
   ]
  },
  {
   "cell_type": "markdown",
   "id": "_TDkn1sJNkSQ",
   "metadata": {
    "id": "_TDkn1sJNkSQ"
   },
   "source": [
    "#### Variables & Data types"
   ]
  },
  {
   "cell_type": "markdown",
   "id": "y182ct4QJ9JE",
   "metadata": {
    "id": "y182ct4QJ9JE"
   },
   "source": [
    "**Types of data:**\n",
    "\n",
    "Text Type:\t`str`\n",
    "\n",
    "Numeric Types:\t`int`, `float`, `complex`\n",
    "\n",
    "Sequence Types:\t`list`, `tuple`, `range`\n",
    "\n",
    "Mapping Type:\t`dict`\n",
    "\n",
    "Set Types:\t`set`, `frozenset`\n",
    "\n",
    "Boolean Type:\t`bool`\n",
    "\n",
    "Binary Types:\t`bytes`, `bytearray`, `memoryview`"
   ]
  },
  {
   "cell_type": "code",
   "execution_count": 5,
   "id": "theoretical-tulsa",
   "metadata": {
    "id": "theoretical-tulsa"
   },
   "outputs": [
    {
     "data": {
      "text/plain": [
       "str"
      ]
     },
     "execution_count": 5,
     "metadata": {},
     "output_type": "execute_result"
    }
   ],
   "source": [
    "# Variables and their types\n",
    "foo = 42\n",
    "foo = True\n",
    "myString = \"Hello\"\n",
    "type(myString)"
   ]
  },
  {
   "cell_type": "code",
   "execution_count": 6,
   "id": "upset-decimal",
   "metadata": {
    "id": "upset-decimal"
   },
   "outputs": [
    {
     "name": "stdout",
     "output_type": "stream",
     "text": [
      "<class 'str'>\n",
      "<class 'int'>\n"
     ]
    }
   ],
   "source": [
    "# Type Casting\n",
    "myString = \"41\"\n",
    "print(type(myString))\n",
    "print(type(int(myString)))"
   ]
  },
  {
   "cell_type": "code",
   "execution_count": 7,
   "id": "XMaTJnJdLmy-",
   "metadata": {
    "id": "XMaTJnJdLmy-"
   },
   "outputs": [
    {
     "data": {
      "text/plain": [
       "Ellipsis"
      ]
     },
     "execution_count": 7,
     "metadata": {},
     "output_type": "execute_result"
    }
   ],
   "source": [
    "# Lists\n",
    "myList = [1, 2, 3, \"Hello\", 4]\n",
    "\n",
    "# How do you index a list?\n",
    "...\n",
    "\n",
    "# How do you add an element to a list?\n",
    "..."
   ]
  },
  {
   "cell_type": "code",
   "execution_count": 8,
   "id": "OIMlkP9XMBOb",
   "metadata": {
    "id": "OIMlkP9XMBOb"
   },
   "outputs": [
    {
     "data": {
      "text/plain": [
       "Ellipsis"
      ]
     },
     "execution_count": 8,
     "metadata": {},
     "output_type": "execute_result"
    }
   ],
   "source": [
    "# Tuples\n",
    "myTuple = (1, 2, 3)\n",
    "\n",
    "# How to index a tuple?\n",
    "...\n",
    "\n",
    "# How to add an element to a tuple?\n",
    "..."
   ]
  },
  {
   "cell_type": "code",
   "execution_count": 9,
   "id": "VHcKTydDN9zc",
   "metadata": {
    "id": "VHcKTydDN9zc"
   },
   "outputs": [
    {
     "data": {
      "text/plain": [
       "Ellipsis"
      ]
     },
     "execution_count": 9,
     "metadata": {},
     "output_type": "execute_result"
    }
   ],
   "source": [
    "# Dictionaries\n",
    "myDict = {\"Name\": \"Julian\", \"Degree\": \"Data Science and Decisions\"}\n",
    "\n",
    "# How to access elements?\n",
    "...\n",
    "\n",
    "# How to create new elements?\n",
    "..."
   ]
  },
  {
   "cell_type": "markdown",
   "id": "nibd0cz4NJqA",
   "metadata": {
    "id": "nibd0cz4NJqA"
   },
   "source": [
    "#### Arithmetic and Operators\n"
   ]
  },
  {
   "cell_type": "code",
   "execution_count": 10,
   "id": "TS3IF-6YNnY9",
   "metadata": {
    "id": "TS3IF-6YNnY9"
   },
   "outputs": [
    {
     "name": "stdout",
     "output_type": "stream",
     "text": [
      "1.0\n"
     ]
    }
   ],
   "source": [
    "# Arithmetic\n",
    "x = 1\n",
    "y = 2\n",
    "print((x - y * y / y) ** 4)"
   ]
  },
  {
   "cell_type": "code",
   "execution_count": 11,
   "id": "gYw8RVLbORHX",
   "metadata": {
    "id": "gYw8RVLbORHX"
   },
   "outputs": [
    {
     "name": "stdout",
     "output_type": "stream",
     "text": [
      "Does 1 equal 2:  False\n",
      "Is 1 less than 2: True\n",
      "Is 1 less than 2 and equal to 5: False\n"
     ]
    },
    {
     "data": {
      "text/plain": [
       "Ellipsis"
      ]
     },
     "execution_count": 11,
     "metadata": {},
     "output_type": "execute_result"
    }
   ],
   "source": [
    "# Operators\n",
    "print(\"Does 1 equal 2: \", 1 == 2)\n",
    "\n",
    "print(\"Is 1 less than 2:\", 1 < 2)\n",
    "\n",
    "print(\"Is 1 less than 2 and equal to 5:\", (1 < 2) and (1 == 5))\n",
    "\n",
    "# Let's use operators to answer some questions\n",
    "..."
   ]
  },
  {
   "cell_type": "markdown",
   "id": "JE-_Y79oO9vq",
   "metadata": {
    "id": "JE-_Y79oO9vq"
   },
   "source": [
    "#### Python tips: What to do if you need help??!!"
   ]
  },
  {
   "cell_type": "code",
   "execution_count": 12,
   "id": "Fa1GLFdFPIQ2",
   "metadata": {
    "id": "Fa1GLFdFPIQ2"
   },
   "outputs": [
    {
     "name": "stdout",
     "output_type": "stream",
     "text": [
      "Help on class list in module builtins:\n",
      "\n",
      "class list(object)\n",
      " |  list(iterable=(), /)\n",
      " |  \n",
      " |  Built-in mutable sequence.\n",
      " |  \n",
      " |  If no argument is given, the constructor creates a new empty list.\n",
      " |  The argument must be an iterable if specified.\n",
      " |  \n",
      " |  Methods defined here:\n",
      " |  \n",
      " |  __add__(self, value, /)\n",
      " |      Return self+value.\n",
      " |  \n",
      " |  __contains__(self, key, /)\n",
      " |      Return key in self.\n",
      " |  \n",
      " |  __delitem__(self, key, /)\n",
      " |      Delete self[key].\n",
      " |  \n",
      " |  __eq__(self, value, /)\n",
      " |      Return self==value.\n",
      " |  \n",
      " |  __ge__(self, value, /)\n",
      " |      Return self>=value.\n",
      " |  \n",
      " |  __getattribute__(self, name, /)\n",
      " |      Return getattr(self, name).\n",
      " |  \n",
      " |  __getitem__(...)\n",
      " |      x.__getitem__(y) <==> x[y]\n",
      " |  \n",
      " |  __gt__(self, value, /)\n",
      " |      Return self>value.\n",
      " |  \n",
      " |  __iadd__(self, value, /)\n",
      " |      Implement self+=value.\n",
      " |  \n",
      " |  __imul__(self, value, /)\n",
      " |      Implement self*=value.\n",
      " |  \n",
      " |  __init__(self, /, *args, **kwargs)\n",
      " |      Initialize self.  See help(type(self)) for accurate signature.\n",
      " |  \n",
      " |  __iter__(self, /)\n",
      " |      Implement iter(self).\n",
      " |  \n",
      " |  __le__(self, value, /)\n",
      " |      Return self<=value.\n",
      " |  \n",
      " |  __len__(self, /)\n",
      " |      Return len(self).\n",
      " |  \n",
      " |  __lt__(self, value, /)\n",
      " |      Return self<value.\n",
      " |  \n",
      " |  __mul__(self, value, /)\n",
      " |      Return self*value.\n",
      " |  \n",
      " |  __ne__(self, value, /)\n",
      " |      Return self!=value.\n",
      " |  \n",
      " |  __repr__(self, /)\n",
      " |      Return repr(self).\n",
      " |  \n",
      " |  __reversed__(self, /)\n",
      " |      Return a reverse iterator over the list.\n",
      " |  \n",
      " |  __rmul__(self, value, /)\n",
      " |      Return value*self.\n",
      " |  \n",
      " |  __setitem__(self, key, value, /)\n",
      " |      Set self[key] to value.\n",
      " |  \n",
      " |  __sizeof__(self, /)\n",
      " |      Return the size of the list in memory, in bytes.\n",
      " |  \n",
      " |  append(self, object, /)\n",
      " |      Append object to the end of the list.\n",
      " |  \n",
      " |  clear(self, /)\n",
      " |      Remove all items from list.\n",
      " |  \n",
      " |  copy(self, /)\n",
      " |      Return a shallow copy of the list.\n",
      " |  \n",
      " |  count(self, value, /)\n",
      " |      Return number of occurrences of value.\n",
      " |  \n",
      " |  extend(self, iterable, /)\n",
      " |      Extend list by appending elements from the iterable.\n",
      " |  \n",
      " |  index(self, value, start=0, stop=9223372036854775807, /)\n",
      " |      Return first index of value.\n",
      " |      \n",
      " |      Raises ValueError if the value is not present.\n",
      " |  \n",
      " |  insert(self, index, object, /)\n",
      " |      Insert object before index.\n",
      " |  \n",
      " |  pop(self, index=-1, /)\n",
      " |      Remove and return item at index (default last).\n",
      " |      \n",
      " |      Raises IndexError if list is empty or index is out of range.\n",
      " |  \n",
      " |  remove(self, value, /)\n",
      " |      Remove first occurrence of value.\n",
      " |      \n",
      " |      Raises ValueError if the value is not present.\n",
      " |  \n",
      " |  reverse(self, /)\n",
      " |      Reverse *IN PLACE*.\n",
      " |  \n",
      " |  sort(self, /, *, key=None, reverse=False)\n",
      " |      Stable sort *IN PLACE*.\n",
      " |  \n",
      " |  ----------------------------------------------------------------------\n",
      " |  Static methods defined here:\n",
      " |  \n",
      " |  __new__(*args, **kwargs) from builtins.type\n",
      " |      Create and return a new object.  See help(type) for accurate signature.\n",
      " |  \n",
      " |  ----------------------------------------------------------------------\n",
      " |  Data and other attributes defined here:\n",
      " |  \n",
      " |  __hash__ = None\n",
      "\n"
     ]
    }
   ],
   "source": [
    "help(list)"
   ]
  },
  {
   "cell_type": "code",
   "execution_count": 13,
   "id": "fancy-instrumentation",
   "metadata": {
    "id": "fancy-instrumentation"
   },
   "outputs": [
    {
     "data": {
      "text/plain": [
       "['__class__',\n",
       " '__contains__',\n",
       " '__delattr__',\n",
       " '__delitem__',\n",
       " '__dir__',\n",
       " '__doc__',\n",
       " '__eq__',\n",
       " '__format__',\n",
       " '__ge__',\n",
       " '__getattribute__',\n",
       " '__getitem__',\n",
       " '__gt__',\n",
       " '__hash__',\n",
       " '__init__',\n",
       " '__init_subclass__',\n",
       " '__iter__',\n",
       " '__le__',\n",
       " '__len__',\n",
       " '__lt__',\n",
       " '__ne__',\n",
       " '__new__',\n",
       " '__reduce__',\n",
       " '__reduce_ex__',\n",
       " '__repr__',\n",
       " '__setattr__',\n",
       " '__setitem__',\n",
       " '__sizeof__',\n",
       " '__str__',\n",
       " '__subclasshook__',\n",
       " 'clear',\n",
       " 'copy',\n",
       " 'fromkeys',\n",
       " 'get',\n",
       " 'items',\n",
       " 'keys',\n",
       " 'pop',\n",
       " 'popitem',\n",
       " 'setdefault',\n",
       " 'update',\n",
       " 'values']"
      ]
     },
     "execution_count": 13,
     "metadata": {},
     "output_type": "execute_result"
    }
   ],
   "source": [
    "dir(dict)"
   ]
  },
  {
   "cell_type": "markdown",
   "id": "advance-rogers",
   "metadata": {
    "id": "advance-rogers"
   },
   "source": [
    "### Control structures"
   ]
  },
  {
   "cell_type": "markdown",
   "id": "sA3QUxruPR40",
   "metadata": {
    "id": "sA3QUxruPR40"
   },
   "source": [
    "The purpose of control structure in any programming language is to control the \"flow\" of code.\n",
    "\n",
    "Control structure lets the computer do the boring repetitive stuff and gives nuance and complexity to your program!\n",
    "\n",
    "To 2 main control structures are:\n",
    "* If statements\n",
    "* For/while loops"
   ]
  },
  {
   "cell_type": "code",
   "execution_count": 14,
   "id": "international-freedom",
   "metadata": {
    "id": "international-freedom"
   },
   "outputs": [
    {
     "name": "stdout",
     "output_type": "stream",
     "text": [
      "He's not bad\n"
     ]
    }
   ],
   "source": [
    "# If Statements\n",
    "bestProgrammer = \"Noah\"\n",
    "goodProgrammer = \"Julian\"\n",
    "\n",
    "if \"Julian\" == bestProgrammer:\n",
    "  print(\"He's the best programmer!\")\n",
    "elif \"Julian\" == goodProgrammer:\n",
    "  print(\"He's not bad\")\n",
    "else:\n",
    "  print(\"He can't code :(\")"
   ]
  },
  {
   "cell_type": "code",
   "execution_count": 15,
   "id": "catholic-aberdeen",
   "metadata": {
    "id": "catholic-aberdeen"
   },
   "outputs": [
    {
     "name": "stdout",
     "output_type": "stream",
     "text": [
      "Julian can code!!\n",
      "Noah can code!!\n"
     ]
    }
   ],
   "source": [
    "# For loops\n",
    "programmers = [\"Julian\", \"Noah\"]\n",
    "for programmer in programmers:\n",
    "  print(f\"{programmer} can code!!\")"
   ]
  },
  {
   "cell_type": "code",
   "execution_count": 16,
   "id": "uhMD_qZERvh-",
   "metadata": {
    "id": "uhMD_qZERvh-"
   },
   "outputs": [
    {
     "name": "stdout",
     "output_type": "stream",
     "text": [
      "0 is even!!\n",
      "1 is odd!\n",
      "2 is even!!\n",
      "3 is odd!\n",
      "4 is even!!\n",
      "5 is odd!\n",
      "6 is even!!\n",
      "7 is odd!\n",
      "8 is even!!\n",
      "9 is odd!\n"
     ]
    }
   ],
   "source": [
    "# More for loops!?!\n",
    "for i in range(0, 10):\n",
    "  if i % 2 == 0:\n",
    "    print(f\"{i} is even!!\")\n",
    "  else:\n",
    "    print(f\"{i} is odd!\")"
   ]
  },
  {
   "cell_type": "code",
   "execution_count": 17,
   "id": "2N3FEjbYSKxh",
   "metadata": {
    "id": "2N3FEjbYSKxh"
   },
   "outputs": [
    {
     "name": "stdout",
     "output_type": "stream",
     "text": [
      "If we use a while loop to increment our integer, i ends up being... 10\n"
     ]
    }
   ],
   "source": [
    "# While loops\n",
    "i = 0\n",
    "while i < 10:\n",
    "  i += 1\n",
    "print(\"If we use a while loop to increment our integer, i ends up being...\", i)"
   ]
  },
  {
   "cell_type": "markdown",
   "id": "DnyWBqnRSeRq",
   "metadata": {
    "id": "DnyWBqnRSeRq"
   },
   "source": [
    "### Let's Code!!!\n",
    "Tasks:\n",
    "\n",
    "**Ex 1.** Use a loop to display elements from a list only if the index is odd.\n",
    "\n",
    "Given: `[10, 20, 30, 40, 50, 60, 70, 80, 90, 100]` \n",
    "\n",
    "Expected Output: `20 40 60 80 100`\n",
    "\n",
    "\n",
    "**Ex 2.** Given a character and a string from the user, replace all occurences of the character in the string with #.\n",
    "\n",
    "Given: character = \"J\", string = \"Julian\"\n",
    "\n",
    "Expected Output: \"#ulian\"\n",
    "\n",
    "**Ex.3** Remove the given fields from the dataset\n",
    "\n",
    "Given: `{'name': 'Julian', 'degree': 'Data Science and Decisions', 'WAM': 42, 'Academic Standing': 'Terrible'}`\n",
    "\n",
    "Expected Output: `{'name': 'Julian', 'degree': 'Data Science and Decisions'}`\n"
   ]
  },
  {
   "cell_type": "code",
   "execution_count": 18,
   "id": "rAwZw17hUep1",
   "metadata": {
    "id": "rAwZw17hUep1"
   },
   "outputs": [],
   "source": [
    "# Ex 1. (hint: use the function enumerate())\n",
    "myList = [10, 20, 30, 40, 50, 60, 70, 80, 90, 100]\n",
    "\n",
    "# CODE HERE..."
   ]
  },
  {
   "cell_type": "code",
   "execution_count": 19,
   "id": "JvdMO7rEVxRg",
   "metadata": {
    "id": "JvdMO7rEVxRg"
   },
   "outputs": [],
   "source": [
    "# Ex 2. (Try to look up what functions are available for strings in Python)\n",
    "\n",
    "# CODE HERE..."
   ]
  },
  {
   "cell_type": "code",
   "execution_count": 20,
   "id": "NXpT-eLSXvJT",
   "metadata": {
    "id": "NXpT-eLSXvJT"
   },
   "outputs": [],
   "source": [
    "# Ex 3. (hint: try using dir() on the dictionary class and see what attributes are available)\n",
    "unswDataset = {\n",
    "    \"name\": \"Julian\",\n",
    "    \"degree\": \"Data Science and Decisions\",\n",
    "    \"WAM\": 42,\n",
    "    \"Academic Standing\": \"Terrible\"\n",
    "}\n",
    "\n",
    "# Keys to remove\n",
    "fields = [\"WAM\", \"Academic Standing\"]\n",
    "\n",
    "# CODE HERE"
   ]
  },
  {
   "cell_type": "markdown",
   "id": "charged-yugoslavia",
   "metadata": {},
   "source": [
    "### Functions\n",
    "\n",
    "- Simply put, functions are chunks of code that are only run when called\n",
    "- They can be used throughout your program in various places, whether is to perform a task or calculation\n",
    "- You can pass function **parameters** if you wish, but it is not essential and there are situations where you will not need them\n",
    "- Functions can also return data to you, but they don't always have to do this.\n",
    "- The truly remarkable thing about functions in python is that they generate multiple outputs!!"
   ]
  },
  {
   "cell_type": "markdown",
   "id": "handed-station",
   "metadata": {},
   "source": [
    "#### Task 🧠: Create a function that does absolutely nothing"
   ]
  },
  {
   "cell_type": "code",
   "execution_count": 21,
   "id": "divided-tender",
   "metadata": {},
   "outputs": [],
   "source": [
    "def my_func():\n",
    "    pass"
   ]
  },
  {
   "cell_type": "markdown",
   "id": "compact-texas",
   "metadata": {},
   "source": [
    "#### Task 🧠: Create a function that extracts all the names that begin with [letter]:"
   ]
  },
  {
   "cell_type": "code",
   "execution_count": 22,
   "id": "agricultural-heather",
   "metadata": {},
   "outputs": [],
   "source": [
    "def extract_names(my_list, letter):\n",
    "    \"\"\"Extract everyone who begains with [letter] and places into a new list\"\"\"\n",
    "    new_list = []\n",
    "    for n in my_list:\n",
    "        # Strip whitespace in case we get a name like '   john  ' and then convert to title so that we don't get 'john'\n",
    "        name = n.strip().title()\n",
    "        if name.startswith(letter.upper()):\n",
    "            new_list.append(name)\n",
    "    return new_list"
   ]
  },
  {
   "cell_type": "code",
   "execution_count": 23,
   "id": "surface-fitting",
   "metadata": {},
   "outputs": [
    {
     "data": {
      "text/plain": [
       "['Noah']"
      ]
     },
     "execution_count": 23,
     "metadata": {},
     "output_type": "execute_result"
    }
   ],
   "source": [
    "extract_names(['   John     ', 'Stacey', 'jack  ', 'Noah'], 'N')"
   ]
  },
  {
   "cell_type": "markdown",
   "id": "unable-miniature",
   "metadata": {},
   "source": [
    "#### Task 🧠: Create a function that sends a this long message:\n",
    "\n",
    "---\n",
    "\n",
    "\"Dear [NAME],\n",
    "\n",
    "I recently applied for a job opening at [COMPANY NAME] for the position of [POSITION NAME] on your online career site.\n",
    "\n",
    "I’d love to set up a time to schedule a call and talk about the position and my experience. I have some availability next week would really appreciate any opportunity to commmunicate about this further with you.\n",
    "\n",
    "Sincerely,\n",
    "\n",
    "[YOUR NAME]\""
   ]
  },
  {
   "cell_type": "code",
   "execution_count": 24,
   "id": "british-banana",
   "metadata": {
    "tags": []
   },
   "outputs": [],
   "source": [
    "def structure_email(hiring_manager, company, position_name, your_name):\n",
    "    \"\"\"Structures an email\"\"\"\n",
    "    intro = f\"Dear {hiring_manager},\\nI recently applied for a job opening at {company} for the position of {position_name} on your online career site.\\n\\n\"\n",
    "    body = f\"I’d love to set up a time to schedule a call and talk about the my experience, and would really appreciate any opportunity to commmunicate about this further with you\\n\\n\"\n",
    "    conclusion = f\"Sincerely,\\n{your_name}\"\n",
    "    \n",
    "    return intro + body + conclusion\n"
   ]
  },
  {
   "cell_type": "code",
   "execution_count": 25,
   "id": "equipped-elimination",
   "metadata": {},
   "outputs": [
    {
     "name": "stdout",
     "output_type": "stream",
     "text": [
      "Dear Dr. Smith,\n",
      "I recently applied for a job opening at Nike for the position of Data Scientist on your online career site.\n",
      "\n",
      "I’d love to set up a time to schedule a call and talk about the my experience, and would really appreciate any opportunity to commmunicate about this further with you\n",
      "\n",
      "Sincerely,\n",
      "Noah Rubin\n"
     ]
    }
   ],
   "source": [
    "print(structure_email('Dr. Smith', 'Nike', 'Data Scientist', 'Noah Rubin'))"
   ]
  },
  {
   "cell_type": "markdown",
   "id": "cooked-button",
   "metadata": {},
   "source": [
    "### External Libraries:\n",
    "- Pandas is arguably the gold standard for analysing small-medium sized data sets in python\n",
    "- Um, why not just use excel?! \n",
    "- The problem is that excel can only handle 1,048,576 rows and 16,384 columns in a worksheet, so it really struggles as the amount of data increases\n",
    "- Pandas can handle millions of rows with ease, and is far more versatile too as you are not just restricted to point anbd click type software\n",
    "\n",
    "Here we will **very** gently introduce pandas and how knowledge of basic python can go a long way"
   ]
  },
  {
   "cell_type": "code",
   "execution_count": 26,
   "id": "indonesian-leeds",
   "metadata": {},
   "outputs": [],
   "source": [
    "# In the line below, you might need to delete the '#' symbol and run the code\n",
    "# !pip install pandas "
   ]
  },
  {
   "cell_type": "code",
   "execution_count": 27,
   "id": "parental-barrel",
   "metadata": {},
   "outputs": [],
   "source": [
    "import pandas as pd"
   ]
  },
  {
   "cell_type": "code",
   "execution_count": 28,
   "id": "sufficient-peoples",
   "metadata": {},
   "outputs": [
    {
     "data": {
      "text/html": [
       "<div>\n",
       "<style scoped>\n",
       "    .dataframe tbody tr th:only-of-type {\n",
       "        vertical-align: middle;\n",
       "    }\n",
       "\n",
       "    .dataframe tbody tr th {\n",
       "        vertical-align: top;\n",
       "    }\n",
       "\n",
       "    .dataframe thead th {\n",
       "        text-align: right;\n",
       "    }\n",
       "</style>\n",
       "<table border=\"1\" class=\"dataframe\">\n",
       "  <thead>\n",
       "    <tr style=\"text-align: right;\">\n",
       "      <th></th>\n",
       "      <th>Order Date</th>\n",
       "      <th>City</th>\n",
       "      <th>Category</th>\n",
       "      <th>Sub-Category</th>\n",
       "      <th>Product Name</th>\n",
       "      <th>Sales</th>\n",
       "      <th>Quantity</th>\n",
       "    </tr>\n",
       "  </thead>\n",
       "  <tbody>\n",
       "    <tr>\n",
       "      <th>0</th>\n",
       "      <td>2016-11-08</td>\n",
       "      <td>Henderson</td>\n",
       "      <td>Furniture</td>\n",
       "      <td>Bookcases</td>\n",
       "      <td>Bush Somerset Collection Bookcase</td>\n",
       "      <td>261.9600</td>\n",
       "      <td>2</td>\n",
       "    </tr>\n",
       "    <tr>\n",
       "      <th>1</th>\n",
       "      <td>2016-11-08</td>\n",
       "      <td>Henderson</td>\n",
       "      <td>Furniture</td>\n",
       "      <td>Chairs</td>\n",
       "      <td>Hon Deluxe Fabric Upholstered Stacking Chairs,...</td>\n",
       "      <td>731.9400</td>\n",
       "      <td>3</td>\n",
       "    </tr>\n",
       "    <tr>\n",
       "      <th>2</th>\n",
       "      <td>2016-06-12</td>\n",
       "      <td>Los Angeles</td>\n",
       "      <td>Office Supplies</td>\n",
       "      <td>Labels</td>\n",
       "      <td>Self-Adhesive Address Labels for Typewriters b...</td>\n",
       "      <td>14.6200</td>\n",
       "      <td>2</td>\n",
       "    </tr>\n",
       "    <tr>\n",
       "      <th>3</th>\n",
       "      <td>2015-10-11</td>\n",
       "      <td>Fort Lauderdale</td>\n",
       "      <td>Furniture</td>\n",
       "      <td>Tables</td>\n",
       "      <td>Bretford CR4500 Series Slim Rectangular Table</td>\n",
       "      <td>957.5775</td>\n",
       "      <td>5</td>\n",
       "    </tr>\n",
       "    <tr>\n",
       "      <th>4</th>\n",
       "      <td>2015-10-11</td>\n",
       "      <td>Fort Lauderdale</td>\n",
       "      <td>Office Supplies</td>\n",
       "      <td>Storage</td>\n",
       "      <td>Eldon Fold 'N Roll Cart System</td>\n",
       "      <td>22.3680</td>\n",
       "      <td>2</td>\n",
       "    </tr>\n",
       "  </tbody>\n",
       "</table>\n",
       "</div>"
      ],
      "text/plain": [
       "   Order Date             City         Category Sub-Category  \\\n",
       "0  2016-11-08        Henderson        Furniture    Bookcases   \n",
       "1  2016-11-08        Henderson        Furniture       Chairs   \n",
       "2  2016-06-12      Los Angeles  Office Supplies       Labels   \n",
       "3  2015-10-11  Fort Lauderdale        Furniture       Tables   \n",
       "4  2015-10-11  Fort Lauderdale  Office Supplies      Storage   \n",
       "\n",
       "                                        Product Name     Sales  Quantity  \n",
       "0                  Bush Somerset Collection Bookcase  261.9600         2  \n",
       "1  Hon Deluxe Fabric Upholstered Stacking Chairs,...  731.9400         3  \n",
       "2  Self-Adhesive Address Labels for Typewriters b...   14.6200         2  \n",
       "3      Bretford CR4500 Series Slim Rectangular Table  957.5775         5  \n",
       "4                     Eldon Fold 'N Roll Cart System   22.3680         2  "
      ]
     },
     "execution_count": 28,
     "metadata": {},
     "output_type": "execute_result"
    }
   ],
   "source": [
    "orders = pd.read_csv('https://raw.githubusercontent.com/UNSW-Data-Science-Society/Intro-to-python-workshop/main/store.csv')\n",
    "orders.head()"
   ]
  },
  {
   "cell_type": "markdown",
   "id": "duplicate-helping",
   "metadata": {},
   "source": [
    "#### Task 🧠: \n",
    "Select only the `City` and `Sub-Category` columns and display them to the screen"
   ]
  },
  {
   "cell_type": "code",
   "execution_count": 29,
   "id": "associate-thanks",
   "metadata": {},
   "outputs": [
    {
     "data": {
      "text/html": [
       "<div>\n",
       "<style scoped>\n",
       "    .dataframe tbody tr th:only-of-type {\n",
       "        vertical-align: middle;\n",
       "    }\n",
       "\n",
       "    .dataframe tbody tr th {\n",
       "        vertical-align: top;\n",
       "    }\n",
       "\n",
       "    .dataframe thead th {\n",
       "        text-align: right;\n",
       "    }\n",
       "</style>\n",
       "<table border=\"1\" class=\"dataframe\">\n",
       "  <thead>\n",
       "    <tr style=\"text-align: right;\">\n",
       "      <th></th>\n",
       "      <th>City</th>\n",
       "      <th>Sub-Category</th>\n",
       "    </tr>\n",
       "  </thead>\n",
       "  <tbody>\n",
       "    <tr>\n",
       "      <th>0</th>\n",
       "      <td>Henderson</td>\n",
       "      <td>Bookcases</td>\n",
       "    </tr>\n",
       "    <tr>\n",
       "      <th>1</th>\n",
       "      <td>Henderson</td>\n",
       "      <td>Chairs</td>\n",
       "    </tr>\n",
       "    <tr>\n",
       "      <th>2</th>\n",
       "      <td>Los Angeles</td>\n",
       "      <td>Labels</td>\n",
       "    </tr>\n",
       "    <tr>\n",
       "      <th>3</th>\n",
       "      <td>Fort Lauderdale</td>\n",
       "      <td>Tables</td>\n",
       "    </tr>\n",
       "    <tr>\n",
       "      <th>4</th>\n",
       "      <td>Fort Lauderdale</td>\n",
       "      <td>Storage</td>\n",
       "    </tr>\n",
       "    <tr>\n",
       "      <th>...</th>\n",
       "      <td>...</td>\n",
       "      <td>...</td>\n",
       "    </tr>\n",
       "    <tr>\n",
       "      <th>9989</th>\n",
       "      <td>Miami</td>\n",
       "      <td>Furnishings</td>\n",
       "    </tr>\n",
       "    <tr>\n",
       "      <th>9990</th>\n",
       "      <td>Costa Mesa</td>\n",
       "      <td>Furnishings</td>\n",
       "    </tr>\n",
       "    <tr>\n",
       "      <th>9991</th>\n",
       "      <td>Costa Mesa</td>\n",
       "      <td>Phones</td>\n",
       "    </tr>\n",
       "    <tr>\n",
       "      <th>9992</th>\n",
       "      <td>Costa Mesa</td>\n",
       "      <td>Paper</td>\n",
       "    </tr>\n",
       "    <tr>\n",
       "      <th>9993</th>\n",
       "      <td>Westminster</td>\n",
       "      <td>Appliances</td>\n",
       "    </tr>\n",
       "  </tbody>\n",
       "</table>\n",
       "<p>9994 rows × 2 columns</p>\n",
       "</div>"
      ],
      "text/plain": [
       "                 City Sub-Category\n",
       "0           Henderson    Bookcases\n",
       "1           Henderson       Chairs\n",
       "2         Los Angeles       Labels\n",
       "3     Fort Lauderdale       Tables\n",
       "4     Fort Lauderdale      Storage\n",
       "...               ...          ...\n",
       "9989            Miami  Furnishings\n",
       "9990       Costa Mesa  Furnishings\n",
       "9991       Costa Mesa       Phones\n",
       "9992       Costa Mesa        Paper\n",
       "9993      Westminster   Appliances\n",
       "\n",
       "[9994 rows x 2 columns]"
      ]
     },
     "execution_count": 29,
     "metadata": {},
     "output_type": "execute_result"
    }
   ],
   "source": [
    "orders[['City', 'Sub-Category']]"
   ]
  },
  {
   "cell_type": "markdown",
   "id": "wireless-survivor",
   "metadata": {},
   "source": [
    "#### Task 🧠: \n",
    "Create a column called `Revenue` that multiplies `Sales` and `Quantity`"
   ]
  },
  {
   "cell_type": "code",
   "execution_count": 30,
   "id": "tamil-channel",
   "metadata": {},
   "outputs": [],
   "source": [
    "orders['Revenue'] = orders['Sales'] * orders['Quantity']"
   ]
  },
  {
   "cell_type": "code",
   "execution_count": 31,
   "id": "sunrise-sleep",
   "metadata": {},
   "outputs": [
    {
     "data": {
      "text/html": [
       "<div>\n",
       "<style scoped>\n",
       "    .dataframe tbody tr th:only-of-type {\n",
       "        vertical-align: middle;\n",
       "    }\n",
       "\n",
       "    .dataframe tbody tr th {\n",
       "        vertical-align: top;\n",
       "    }\n",
       "\n",
       "    .dataframe thead th {\n",
       "        text-align: right;\n",
       "    }\n",
       "</style>\n",
       "<table border=\"1\" class=\"dataframe\">\n",
       "  <thead>\n",
       "    <tr style=\"text-align: right;\">\n",
       "      <th></th>\n",
       "      <th>Order Date</th>\n",
       "      <th>City</th>\n",
       "      <th>Category</th>\n",
       "      <th>Sub-Category</th>\n",
       "      <th>Product Name</th>\n",
       "      <th>Sales</th>\n",
       "      <th>Quantity</th>\n",
       "      <th>Revenue</th>\n",
       "    </tr>\n",
       "  </thead>\n",
       "  <tbody>\n",
       "    <tr>\n",
       "      <th>0</th>\n",
       "      <td>2016-11-08</td>\n",
       "      <td>Henderson</td>\n",
       "      <td>Furniture</td>\n",
       "      <td>Bookcases</td>\n",
       "      <td>Bush Somerset Collection Bookcase</td>\n",
       "      <td>261.9600</td>\n",
       "      <td>2</td>\n",
       "      <td>523.9200</td>\n",
       "    </tr>\n",
       "    <tr>\n",
       "      <th>1</th>\n",
       "      <td>2016-11-08</td>\n",
       "      <td>Henderson</td>\n",
       "      <td>Furniture</td>\n",
       "      <td>Chairs</td>\n",
       "      <td>Hon Deluxe Fabric Upholstered Stacking Chairs,...</td>\n",
       "      <td>731.9400</td>\n",
       "      <td>3</td>\n",
       "      <td>2195.8200</td>\n",
       "    </tr>\n",
       "    <tr>\n",
       "      <th>2</th>\n",
       "      <td>2016-06-12</td>\n",
       "      <td>Los Angeles</td>\n",
       "      <td>Office Supplies</td>\n",
       "      <td>Labels</td>\n",
       "      <td>Self-Adhesive Address Labels for Typewriters b...</td>\n",
       "      <td>14.6200</td>\n",
       "      <td>2</td>\n",
       "      <td>29.2400</td>\n",
       "    </tr>\n",
       "    <tr>\n",
       "      <th>3</th>\n",
       "      <td>2015-10-11</td>\n",
       "      <td>Fort Lauderdale</td>\n",
       "      <td>Furniture</td>\n",
       "      <td>Tables</td>\n",
       "      <td>Bretford CR4500 Series Slim Rectangular Table</td>\n",
       "      <td>957.5775</td>\n",
       "      <td>5</td>\n",
       "      <td>4787.8875</td>\n",
       "    </tr>\n",
       "    <tr>\n",
       "      <th>4</th>\n",
       "      <td>2015-10-11</td>\n",
       "      <td>Fort Lauderdale</td>\n",
       "      <td>Office Supplies</td>\n",
       "      <td>Storage</td>\n",
       "      <td>Eldon Fold 'N Roll Cart System</td>\n",
       "      <td>22.3680</td>\n",
       "      <td>2</td>\n",
       "      <td>44.7360</td>\n",
       "    </tr>\n",
       "  </tbody>\n",
       "</table>\n",
       "</div>"
      ],
      "text/plain": [
       "   Order Date             City         Category Sub-Category  \\\n",
       "0  2016-11-08        Henderson        Furniture    Bookcases   \n",
       "1  2016-11-08        Henderson        Furniture       Chairs   \n",
       "2  2016-06-12      Los Angeles  Office Supplies       Labels   \n",
       "3  2015-10-11  Fort Lauderdale        Furniture       Tables   \n",
       "4  2015-10-11  Fort Lauderdale  Office Supplies      Storage   \n",
       "\n",
       "                                        Product Name     Sales  Quantity  \\\n",
       "0                  Bush Somerset Collection Bookcase  261.9600         2   \n",
       "1  Hon Deluxe Fabric Upholstered Stacking Chairs,...  731.9400         3   \n",
       "2  Self-Adhesive Address Labels for Typewriters b...   14.6200         2   \n",
       "3      Bretford CR4500 Series Slim Rectangular Table  957.5775         5   \n",
       "4                     Eldon Fold 'N Roll Cart System   22.3680         2   \n",
       "\n",
       "     Revenue  \n",
       "0   523.9200  \n",
       "1  2195.8200  \n",
       "2    29.2400  \n",
       "3  4787.8875  \n",
       "4    44.7360  "
      ]
     },
     "execution_count": 31,
     "metadata": {},
     "output_type": "execute_result"
    }
   ],
   "source": [
    "orders.head()"
   ]
  },
  {
   "cell_type": "markdown",
   "id": "republican-lodging",
   "metadata": {},
   "source": [
    "Find all Furtinute Sales"
   ]
  },
  {
   "cell_type": "markdown",
   "id": "registered-pledge",
   "metadata": {},
   "source": [
    "#### Task 🧠: \n",
    "Use python dictionaries to rename `Order Date` to `Date` and `Product Name` to product"
   ]
  },
  {
   "cell_type": "code",
   "execution_count": 32,
   "id": "express-blast",
   "metadata": {},
   "outputs": [
    {
     "data": {
      "text/html": [
       "<div>\n",
       "<style scoped>\n",
       "    .dataframe tbody tr th:only-of-type {\n",
       "        vertical-align: middle;\n",
       "    }\n",
       "\n",
       "    .dataframe tbody tr th {\n",
       "        vertical-align: top;\n",
       "    }\n",
       "\n",
       "    .dataframe thead th {\n",
       "        text-align: right;\n",
       "    }\n",
       "</style>\n",
       "<table border=\"1\" class=\"dataframe\">\n",
       "  <thead>\n",
       "    <tr style=\"text-align: right;\">\n",
       "      <th></th>\n",
       "      <th>Date</th>\n",
       "      <th>City</th>\n",
       "      <th>Category</th>\n",
       "      <th>Sub-Category</th>\n",
       "      <th>Product</th>\n",
       "      <th>Sales</th>\n",
       "      <th>Quantity</th>\n",
       "      <th>Revenue</th>\n",
       "    </tr>\n",
       "  </thead>\n",
       "  <tbody>\n",
       "    <tr>\n",
       "      <th>0</th>\n",
       "      <td>2016-11-08</td>\n",
       "      <td>Henderson</td>\n",
       "      <td>Furniture</td>\n",
       "      <td>Bookcases</td>\n",
       "      <td>Bush Somerset Collection Bookcase</td>\n",
       "      <td>261.9600</td>\n",
       "      <td>2</td>\n",
       "      <td>523.9200</td>\n",
       "    </tr>\n",
       "    <tr>\n",
       "      <th>1</th>\n",
       "      <td>2016-11-08</td>\n",
       "      <td>Henderson</td>\n",
       "      <td>Furniture</td>\n",
       "      <td>Chairs</td>\n",
       "      <td>Hon Deluxe Fabric Upholstered Stacking Chairs,...</td>\n",
       "      <td>731.9400</td>\n",
       "      <td>3</td>\n",
       "      <td>2195.8200</td>\n",
       "    </tr>\n",
       "    <tr>\n",
       "      <th>2</th>\n",
       "      <td>2016-06-12</td>\n",
       "      <td>Los Angeles</td>\n",
       "      <td>Office Supplies</td>\n",
       "      <td>Labels</td>\n",
       "      <td>Self-Adhesive Address Labels for Typewriters b...</td>\n",
       "      <td>14.6200</td>\n",
       "      <td>2</td>\n",
       "      <td>29.2400</td>\n",
       "    </tr>\n",
       "    <tr>\n",
       "      <th>3</th>\n",
       "      <td>2015-10-11</td>\n",
       "      <td>Fort Lauderdale</td>\n",
       "      <td>Furniture</td>\n",
       "      <td>Tables</td>\n",
       "      <td>Bretford CR4500 Series Slim Rectangular Table</td>\n",
       "      <td>957.5775</td>\n",
       "      <td>5</td>\n",
       "      <td>4787.8875</td>\n",
       "    </tr>\n",
       "    <tr>\n",
       "      <th>4</th>\n",
       "      <td>2015-10-11</td>\n",
       "      <td>Fort Lauderdale</td>\n",
       "      <td>Office Supplies</td>\n",
       "      <td>Storage</td>\n",
       "      <td>Eldon Fold 'N Roll Cart System</td>\n",
       "      <td>22.3680</td>\n",
       "      <td>2</td>\n",
       "      <td>44.7360</td>\n",
       "    </tr>\n",
       "  </tbody>\n",
       "</table>\n",
       "</div>"
      ],
      "text/plain": [
       "         Date             City         Category Sub-Category  \\\n",
       "0  2016-11-08        Henderson        Furniture    Bookcases   \n",
       "1  2016-11-08        Henderson        Furniture       Chairs   \n",
       "2  2016-06-12      Los Angeles  Office Supplies       Labels   \n",
       "3  2015-10-11  Fort Lauderdale        Furniture       Tables   \n",
       "4  2015-10-11  Fort Lauderdale  Office Supplies      Storage   \n",
       "\n",
       "                                             Product     Sales  Quantity  \\\n",
       "0                  Bush Somerset Collection Bookcase  261.9600         2   \n",
       "1  Hon Deluxe Fabric Upholstered Stacking Chairs,...  731.9400         3   \n",
       "2  Self-Adhesive Address Labels for Typewriters b...   14.6200         2   \n",
       "3      Bretford CR4500 Series Slim Rectangular Table  957.5775         5   \n",
       "4                     Eldon Fold 'N Roll Cart System   22.3680         2   \n",
       "\n",
       "     Revenue  \n",
       "0   523.9200  \n",
       "1  2195.8200  \n",
       "2    29.2400  \n",
       "3  4787.8875  \n",
       "4    44.7360  "
      ]
     },
     "execution_count": 32,
     "metadata": {},
     "output_type": "execute_result"
    }
   ],
   "source": [
    "# Technically the line commented below is more correct but for simplicity we will use this\n",
    "# orders.rename(columns={'Order Date': 'Date', 'Product Name': 'Product'}, inplace=True)\n",
    "\n",
    "orders = orders.rename(columns={'Order Date': 'Date', 'Product Name': 'Product'})\n",
    "orders.head()"
   ]
  },
  {
   "cell_type": "markdown",
   "id": "a784c97b",
   "metadata": {},
   "source": [
    "#### Task 🧠: \n",
    "Create a plot that details how many orders there were for each category of products (using `value_counts()`)"
   ]
  },
  {
   "cell_type": "code",
   "execution_count": 33,
   "id": "bb2c17d6",
   "metadata": {},
   "outputs": [
    {
     "data": {
      "image/png": "[encoded data removed]",
      "text/plain": [
       "<Figure size 1008x576 with 1 Axes>"
      ]
     },
     "metadata": {
      "needs_background": "light"
     },
     "output_type": "display_data"
    }
   ],
   "source": [
    "vc = orders['Category'].value_counts()\n",
    "vc.plot(kind='bar', color='cyan', edgecolor='black', figsize=(14, 8));"
   ]
  },
  {
   "cell_type": "markdown",
   "id": "11ab7a8f",
   "metadata": {},
   "source": [
    "#### Task 🧠: \n",
    "Create a plot that details the total quantity sold for each sub-category of products (using `groupby()`)"
   ]
  },
  {
   "cell_type": "code",
   "execution_count": 34,
   "id": "7d58d396",
   "metadata": {},
   "outputs": [
    {
     "data": {
      "image/png": "[encoded data removed]",
      "text/plain": [
       "<Figure size 1008x576 with 1 Axes>"
      ]
     },
     "metadata": {
      "needs_background": "light"
     },
     "output_type": "display_data"
    }
   ],
   "source": [
    "gb = orders.groupby('Sub-Category')['Quantity'].sum().sort_values()\n",
    "gb.plot(kind='bar', \n",
    "        figsize=(14, 8), \n",
    "        title='Order Quantity by Sub Category',\n",
    "        color='lime', \n",
    "        edgecolor='black');"
   ]
  },
  {
   "cell_type": "markdown",
   "id": "f7f552a8",
   "metadata": {},
   "source": [
    "#### Task 🧠: \n",
    "Which 10 products generated the most revenue in Miami"
   ]
  },
  {
   "cell_type": "code",
   "execution_count": 37,
   "id": "bef61f80",
   "metadata": {},
   "outputs": [
    {
     "data": {
      "text/plain": [
       "Product\n",
       "Cisco Unified IP Phone 7945G VoIP phone                                          6819.800\n",
       "GBC DocuBind TL300 Electric Binding System                                       6727.425\n",
       "Panasonic KX-TG9471B                                                             3919.800\n",
       "Logitech Wireless Anywhere Mouse MX for PC and Mac                               2351.608\n",
       "GBC DocuBind 200 Manual Binding Machine                                          2020.704\n",
       "Office Star - Contemporary Task Swivel chair with 2-way adjustable arms, Plum    1676.544\n",
       "Acco Smartsocket Color-Coded Six-Outlet AC Adapter Model Surge Protectors        1267.488\n",
       "Logitech Wireless Gaming Headset G930                                            1151.928\n",
       "Maxell 4.7GB DVD-R                                                               1112.496\n",
       "O'Sullivan Living Dimensions 2-Shelf Bookcases                                    871.056\n",
       "Name: Revenue, dtype: float64"
      ]
     },
     "execution_count": 37,
     "metadata": {},
     "output_type": "execute_result"
    }
   ],
   "source": [
    "miami = orders.loc[orders['City'] == 'Miami', :].copy()\n",
    "\n",
    "miami.groupby('Product')['Revenue'].sum().sort_values(ascending=False)[:10]"
   ]
  },
  {
   "cell_type": "code",
   "execution_count": null,
   "id": "6045dcf9",
   "metadata": {},
   "outputs": [],
   "source": [
    "orders.head()"
   ]
  },
  {
   "cell_type": "code",
   "execution_count": null,
   "id": "b14e4520",
   "metadata": {},
   "outputs": [],
   "source": []
  }
 ],
 "metadata": {
  "colab": {
   "name": "IntroPython2022.ipynb",
   "provenance": []
  },
  "kernelspec": {
   "display_name": "Python 3",
   "language": "python",
   "name": "python3"
  },
  "language_info": {
   "codemirror_mode": {
    "name": "ipython",
    "version": 3
   },
   "file_extension": ".py",
   "mimetype": "text/x-python",
   "name": "python",
   "nbconvert_exporter": "python",
   "pygments_lexer": "ipython3",
   "version": "3.7.6"
  }
 },
 "nbformat": 4,
 "nbformat_minor": 5
}
