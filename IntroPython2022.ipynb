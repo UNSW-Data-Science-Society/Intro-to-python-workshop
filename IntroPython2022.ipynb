{
  "cells": [
    {
      "cell_type": "markdown",
      "id": "digital-synthetic",
      "metadata": {
        "id": "digital-synthetic"
      },
      "source": [
        "# Intro to Python 2022\n",
        "\n",
        "By Julian Garratt, Aarthi Kumararaja and Noah Rubin\n"
      ]
    },
    {
      "cell_type": "markdown",
      "id": "worst-poetry",
      "metadata": {
        "id": "worst-poetry"
      },
      "source": [
        "###  Print/input statements:"
      ]
    },
    {
      "cell_type": "markdown",
      "source": [
        "Printing to stdout and getting input from stdin is one of the most fundamental operations in Python.\n",
        "\n",
        "It's the bridge between our program and the outside world!!"
      ],
      "metadata": {
        "id": "vLTgvUA7GGOe"
      },
      "id": "vLTgvUA7GGOe"
    },
    {
      "cell_type": "code",
      "execution_count": null,
      "id": "sustained-outside",
      "metadata": {
        "id": "sustained-outside"
      },
      "outputs": [],
      "source": [
        "# Let's run our first print statement:\n",
        "print(\"Hello World\")"
      ]
    },
    {
      "cell_type": "code",
      "execution_count": null,
      "id": "aboriginal-sherman",
      "metadata": {
        "id": "aboriginal-sherman"
      },
      "outputs": [],
      "source": [
        "# Let's get some input from the user!\n",
        "userInput = input(\"Type here!: \")\n",
        "print(\"You Typed:\", userInput)"
      ]
    },
    {
      "cell_type": "code",
      "source": [
        "# Spot the error....\n",
        "print(\"Where\"s the error\")"
      ],
      "metadata": {
        "id": "YVIsqyw0H1Cp"
      },
      "id": "YVIsqyw0H1Cp",
      "execution_count": null,
      "outputs": []
    },
    {
      "cell_type": "markdown",
      "source": [
        "**Python Tip!!**\n",
        "\n",
        "String interpolation is super handy if you want to embed a variable in a string."
      ],
      "metadata": {
        "id": "gueS90r7Idcs"
      },
      "id": "gueS90r7Idcs"
    },
    {
      "cell_type": "code",
      "source": [
        "foo = input(\"Type something: \")\n",
        "\n",
        "# .format()\n",
        "print(\"You typed {}, which can be displayed using .format()\".format(foo))\n",
        "\n",
        "# f-strings\n",
        "print(f\"You typed {foo}, which can be displayed using f-strings\")"
      ],
      "metadata": {
        "id": "BDKpk0cdIwSp"
      },
      "id": "BDKpk0cdIwSp",
      "execution_count": null,
      "outputs": []
    },
    {
      "cell_type": "markdown",
      "id": "controlling-bahamas",
      "metadata": {
        "id": "controlling-bahamas"
      },
      "source": [
        "### Variables, data types & Arithmetic Operators"
      ]
    },
    {
      "cell_type": "markdown",
      "source": [
        "#### Variables & Data types"
      ],
      "metadata": {
        "id": "_TDkn1sJNkSQ"
      },
      "id": "_TDkn1sJNkSQ"
    },
    {
      "cell_type": "markdown",
      "source": [
        "**Types of data:**\n",
        "\n",
        "Text Type:\t`str`\n",
        "\n",
        "Numeric Types:\t`int`, `float`, `complex`\n",
        "\n",
        "Sequence Types:\t`list`, `tuple`, `range`\n",
        "\n",
        "Mapping Type:\t`dict`\n",
        "\n",
        "Set Types:\t`set`, `frozenset`\n",
        "\n",
        "Boolean Type:\t`bool`\n",
        "\n",
        "Binary Types:\t`bytes`, `bytearray`, `memoryview`"
      ],
      "metadata": {
        "id": "y182ct4QJ9JE"
      },
      "id": "y182ct4QJ9JE"
    },
    {
      "cell_type": "code",
      "execution_count": null,
      "id": "theoretical-tulsa",
      "metadata": {
        "id": "theoretical-tulsa"
      },
      "outputs": [],
      "source": [
        "# Variables and their types\n",
        "foo = 42\n",
        "foo = True\n",
        "myString = \"Hello\"\n",
        "type(myString)"
      ]
    },
    {
      "cell_type": "code",
      "execution_count": null,
      "id": "upset-decimal",
      "metadata": {
        "id": "upset-decimal"
      },
      "outputs": [],
      "source": [
        "# Type Casting\n",
        "myString = \"41\"\n",
        "print(type(myString))\n",
        "print(type(int(myString)))"
      ]
    },
    {
      "cell_type": "code",
      "source": [
        "# Lists\n",
        "myList = [1, 2, 3, \"Hello\", 4]\n",
        "\n",
        "# How do you index a list?\n",
        "...\n",
        "\n",
        "# How do you add an element to a list?\n",
        "..."
      ],
      "metadata": {
        "id": "XMaTJnJdLmy-"
      },
      "id": "XMaTJnJdLmy-",
      "execution_count": null,
      "outputs": []
    },
    {
      "cell_type": "code",
      "source": [
        "# Tuples\n",
        "myTuple = (1, 2, 3)\n",
        "\n",
        "# How to index a tuple?\n",
        "...\n",
        "\n",
        "# How to add an element to a tuple?\n",
        "..."
      ],
      "metadata": {
        "id": "OIMlkP9XMBOb"
      },
      "id": "OIMlkP9XMBOb",
      "execution_count": null,
      "outputs": []
    },
    {
      "cell_type": "code",
      "source": [
        "# Dictionaries\n",
        "myDict = {\"Name\": \"Julian\", \"Degree\": \"Data Science and Decisions\"}\n",
        "\n",
        "# How to access elements?\n",
        "...\n",
        "\n",
        "# How to create new elements?\n",
        "..."
      ],
      "metadata": {
        "id": "VHcKTydDN9zc"
      },
      "id": "VHcKTydDN9zc",
      "execution_count": null,
      "outputs": []
    },
    {
      "cell_type": "markdown",
      "source": [
        "#### Arithmetic and Operators\n"
      ],
      "metadata": {
        "id": "nibd0cz4NJqA"
      },
      "id": "nibd0cz4NJqA"
    },
    {
      "cell_type": "code",
      "source": [
        "# Arithmetic\n",
        "x = 1\n",
        "y = 2\n",
        "print((x - y * y / y) ** 4)"
      ],
      "metadata": {
        "id": "TS3IF-6YNnY9"
      },
      "id": "TS3IF-6YNnY9",
      "execution_count": null,
      "outputs": []
    },
    {
      "cell_type": "code",
      "source": [
        "# Operators\n",
        "print(\"Does 1 equal 2: \", 1 == 2)\n",
        "\n",
        "print(\"Is 1 less than 2:\", 1 < 2)\n",
        "\n",
        "print(\"Is 1 less than 2 and equal to 5:\", (1 < 2) and (1 == 5))\n",
        "\n",
        "# Let's use operators to answer some questions\n",
        "..."
      ],
      "metadata": {
        "id": "gYw8RVLbORHX"
      },
      "id": "gYw8RVLbORHX",
      "execution_count": null,
      "outputs": []
    },
    {
      "cell_type": "markdown",
      "source": [
        "#### Python tips: What to do if you need help??!!"
      ],
      "metadata": {
        "id": "JE-_Y79oO9vq"
      },
      "id": "JE-_Y79oO9vq"
    },
    {
      "cell_type": "code",
      "source": [
        "help(list)"
      ],
      "metadata": {
        "id": "Fa1GLFdFPIQ2"
      },
      "id": "Fa1GLFdFPIQ2",
      "execution_count": null,
      "outputs": []
    },
    {
      "cell_type": "code",
      "execution_count": null,
      "id": "fancy-instrumentation",
      "metadata": {
        "id": "fancy-instrumentation"
      },
      "outputs": [],
      "source": [
        "dir(dict)"
      ]
    },
    {
      "cell_type": "markdown",
      "id": "advance-rogers",
      "metadata": {
        "id": "advance-rogers"
      },
      "source": [
        "### Control structures"
      ]
    },
    {
      "cell_type": "markdown",
      "source": [
        "The purpose of control structure in any programming language is to control the \"flow\" of code.\n",
        "\n",
        "Control structure lets the computer do the boring repetitive stuff and gives nuance and complexity to your program!\n",
        "\n",
        "To 2 main control structures are:\n",
        "* If statements\n",
        "* For/while loops"
      ],
      "metadata": {
        "id": "sA3QUxruPR40"
      },
      "id": "sA3QUxruPR40"
    },
    {
      "cell_type": "code",
      "execution_count": null,
      "id": "international-freedom",
      "metadata": {
        "id": "international-freedom"
      },
      "outputs": [],
      "source": [
        "# If Statements\n",
        "bestProgrammer = \"Noah\"\n",
        "goodProgrammer = \"Julian\"\n",
        "\n",
        "if \"Julian\" == bestProgrammer:\n",
        "  print(\"He's the best programmer!\")\n",
        "elif \"Julian\" == goodProgrammer:\n",
        "  print(\"He's not bad\")\n",
        "else:\n",
        "  print(\"He can't code :(\")"
      ]
    },
    {
      "cell_type": "code",
      "execution_count": null,
      "id": "catholic-aberdeen",
      "metadata": {
        "id": "catholic-aberdeen"
      },
      "outputs": [],
      "source": [
        "# For loops\n",
        "programmers = [\"Julian\", \"Noah\"]\n",
        "for programmer in programmers:\n",
        "  print(f\"{programmer} can code!!\")"
      ]
    },
    {
      "cell_type": "code",
      "source": [
        "# More for loops!?!\n",
        "for i in range(0, 10):\n",
        "  if i % 2 == 0:\n",
        "    print(f\"{i} is even!!\")\n",
        "  else:\n",
        "    print(f\"{i} is odd!\")"
      ],
      "metadata": {
        "id": "uhMD_qZERvh-"
      },
      "id": "uhMD_qZERvh-",
      "execution_count": null,
      "outputs": []
    },
    {
      "cell_type": "code",
      "source": [
        "# While loops\n",
        "i = 0\n",
        "while i < 10:\n",
        "  i += 1\n",
        "print(\"If we use a while loop to increment our integer, i ends up being...\", i)"
      ],
      "metadata": {
        "id": "2N3FEjbYSKxh"
      },
      "id": "2N3FEjbYSKxh",
      "execution_count": null,
      "outputs": []
    },
    {
      "cell_type": "markdown",
      "source": [
        "### Let's Code!!!\n",
        "Tasks:\n",
        "\n",
        "**Ex 1.** Use a loop to display elements from a list only if the index is odd.\n",
        "\n",
        "Given: `[10, 20, 30, 40, 50, 60, 70, 80, 90, 100]` \n",
        "\n",
        "Expected Output: `20 40 60 80 100`\n",
        "\n",
        "\n",
        "**Ex 2.** Given a character and a string from the user, replace all occurences of the character in the string with #.\n",
        "\n",
        "Given: character = \"J\", string = \"Julian\"\n",
        "\n",
        "Expected Output: \"#ulian\"\n",
        "\n",
        "**Ex.3** Remove the given fields from the dataset\n",
        "\n",
        "Given: `{'name': 'Julian', 'degree': 'Data Science and Decisions', 'WAM': 42, 'Academic Standing': 'Terrible'}`\n",
        "\n",
        "Expected Output: `{'name': 'Julian', 'degree': 'Data Science and Decisions'}`\n"
      ],
      "metadata": {
        "id": "DnyWBqnRSeRq"
      },
      "id": "DnyWBqnRSeRq"
    },
    {
      "cell_type": "code",
      "source": [
        "# Ex 1. (hint: use the function enumerate())\n",
        "myList = [10, 20, 30, 40, 50, 60, 70, 80, 90, 100]\n",
        "\n",
        "# CODE HERE..."
      ],
      "metadata": {
        "id": "rAwZw17hUep1"
      },
      "id": "rAwZw17hUep1",
      "execution_count": null,
      "outputs": []
    },
    {
      "cell_type": "code",
      "source": [
        "# Ex 2.\n",
        "\n",
        "# CODE HERE...\n",
        "\n",
        "str = \"dwert\"\n"
      ],
      "metadata": {
        "id": "JvdMO7rEVxRg"
      },
      "id": "JvdMO7rEVxRg",
      "execution_count": null,
      "outputs": []
    },
    {
      "cell_type": "code",
      "source": [
        "# Ex 3. (hint: try using dir() on the dictionary class and see what attributes are available)\n",
        "unswDataset = {\n",
        "    \"name\": \"Julian\",\n",
        "    \"degree\": \"Data Science and Decisions\",\n",
        "    \"WAM\": 42,\n",
        "    \"Academic Standing\": \"Terrible\"\n",
        "}\n",
        "\n",
        "# Keys to remove\n",
        "fields = [\"WAM\", \"Academic Standing\"]\n",
        "\n",
        "# CODE HERE"
      ],
      "metadata": {
        "id": "NXpT-eLSXvJT"
      },
      "id": "NXpT-eLSXvJT",
      "execution_count": null,
      "outputs": []
    },
    {
      "cell_type": "markdown",
      "id": "growing-theater",
      "metadata": {
        "id": "growing-theater"
      },
      "source": [
        "### Functions\n",
        "\n",
        "Small paragraph"
      ]
    },
    {
      "cell_type": "markdown",
      "id": "normal-chapel",
      "metadata": {
        "id": "normal-chapel"
      },
      "source": [
        "Q: Find xxx"
      ]
    },
    {
      "cell_type": "code",
      "execution_count": null,
      "id": "current-procedure",
      "metadata": {
        "id": "current-procedure"
      },
      "outputs": [],
      "source": [
        ""
      ]
    },
    {
      "cell_type": "code",
      "execution_count": null,
      "id": "absent-explanation",
      "metadata": {
        "id": "absent-explanation"
      },
      "outputs": [],
      "source": [
        ""
      ]
    },
    {
      "cell_type": "markdown",
      "id": "measured-kingston",
      "metadata": {
        "id": "measured-kingston"
      },
      "source": [
        "### ExternalPandas/Plotting:"
      ]
    },
    {
      "cell_type": "code",
      "execution_count": null,
      "id": "abandoned-sheep",
      "metadata": {
        "id": "abandoned-sheep"
      },
      "outputs": [],
      "source": [
        ""
      ]
    }
  ],
  "metadata": {
    "kernelspec": {
      "display_name": "Python 3",
      "language": "python",
      "name": "python3"
    },
    "language_info": {
      "codemirror_mode": {
        "name": "ipython",
        "version": 3
      },
      "file_extension": ".py",
      "mimetype": "text/x-python",
      "name": "python",
      "nbconvert_exporter": "python",
      "pygments_lexer": "ipython3",
      "version": "3.8.2"
    },
    "colab": {
      "name": "IntroPython2022.ipynb",
      "provenance": []
    }
  },
  "nbformat": 4,
  "nbformat_minor": 5
}