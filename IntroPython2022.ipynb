{
 "cells": [
  {
   "cell_type": "markdown",
   "id": "digital-synthetic",
   "metadata": {
    "id": "digital-synthetic"
   },
   "source": [
    "# Intro to Python 2022\n",
    "\n",
    "By Julian Garratt, Aarthi Kumararaja and Noah Rubin\n"
   ]
  },
  {
   "cell_type": "markdown",
   "id": "worst-poetry",
   "metadata": {
    "id": "worst-poetry"
   },
   "source": [
    "###  Print/input statements:"
   ]
  },
  {
   "cell_type": "markdown",
   "id": "vLTgvUA7GGOe",
   "metadata": {
    "id": "vLTgvUA7GGOe"
   },
   "source": [
    "Printing to stdout and getting input from stdin is one of the most fundamental operations in Python.\n",
    "\n",
    "It's the bridge between our program and the outside world!!"
   ]
  },
  {
   "cell_type": "code",
   "execution_count": 1,
   "id": "sustained-outside",
   "metadata": {
    "id": "sustained-outside"
   },
   "outputs": [
    {
     "name": "stdout",
     "output_type": "stream",
     "text": [
      "Hello World\n"
     ]
    }
   ],
   "source": [
    "# Let's run our first print statement:\n",
    "print(\"Hello World\")"
   ]
  },
  {
   "cell_type": "code",
   "execution_count": null,
   "id": "aboriginal-sherman",
   "metadata": {
    "id": "aboriginal-sherman"
   },
   "outputs": [],
   "source": [
    "# Let's get some input from the user!\n",
    "userInput = input(\"Type here!: \")\n",
    "print(\"You Typed:\", userInput)"
   ]
  },
  {
   "cell_type": "code",
   "execution_count": null,
   "id": "YVIsqyw0H1Cp",
   "metadata": {
    "id": "YVIsqyw0H1Cp"
   },
   "outputs": [],
   "source": [
    "# Spot the error....\n",
    "print(\"Where\"s the error\")"
   ]
  },
  {
   "cell_type": "markdown",
   "id": "gueS90r7Idcs",
   "metadata": {
    "id": "gueS90r7Idcs"
   },
   "source": [
    "**Python Tip!!**\n",
    "\n",
    "String interpolation is super handy if you want to embed a variable in a string."
   ]
  },
  {
   "cell_type": "code",
   "execution_count": null,
   "id": "BDKpk0cdIwSp",
   "metadata": {
    "id": "BDKpk0cdIwSp"
   },
   "outputs": [],
   "source": [
    "foo = input(\"Type something: \")\n",
    "\n",
    "# .format()\n",
    "print(\"You typed {}, which can be displayed using .format()\".format(foo))\n",
    "\n",
    "# f-strings\n",
    "print(f\"You typed {foo}, which can be displayed using f-strings\")"
   ]
  },
  {
   "cell_type": "markdown",
   "id": "controlling-bahamas",
   "metadata": {
    "id": "controlling-bahamas"
   },
   "source": [
    "### Variables, data types & Arithmetic Operators"
   ]
  },
  {
   "cell_type": "markdown",
   "id": "_TDkn1sJNkSQ",
   "metadata": {
    "id": "_TDkn1sJNkSQ"
   },
   "source": [
    "#### Variables & Data types"
   ]
  },
  {
   "cell_type": "markdown",
   "id": "y182ct4QJ9JE",
   "metadata": {
    "id": "y182ct4QJ9JE"
   },
   "source": [
    "**Types of data:**\n",
    "\n",
    "Text Type:\t`str`\n",
    "\n",
    "Numeric Types:\t`int`, `float`, `complex`\n",
    "\n",
    "Sequence Types:\t`list`, `tuple`, `range`\n",
    "\n",
    "Mapping Type:\t`dict`\n",
    "\n",
    "Set Types:\t`set`, `frozenset`\n",
    "\n",
    "Boolean Type:\t`bool`\n",
    "\n",
    "Binary Types:\t`bytes`, `bytearray`, `memoryview`"
   ]
  },
  {
   "cell_type": "code",
   "execution_count": null,
   "id": "theoretical-tulsa",
   "metadata": {
    "id": "theoretical-tulsa"
   },
   "outputs": [],
   "source": [
    "# Variables and their types\n",
    "foo = 42\n",
    "foo = True\n",
    "myString = \"Hello\"\n",
    "type(myString)"
   ]
  },
  {
   "cell_type": "code",
   "execution_count": null,
   "id": "upset-decimal",
   "metadata": {
    "id": "upset-decimal"
   },
   "outputs": [],
   "source": [
    "# Type Casting\n",
    "myString = \"41\"\n",
    "print(type(myString))\n",
    "print(type(int(myString)))"
   ]
  },
  {
   "cell_type": "code",
   "execution_count": null,
   "id": "XMaTJnJdLmy-",
   "metadata": {
    "id": "XMaTJnJdLmy-"
   },
   "outputs": [],
   "source": [
    "# Lists\n",
    "myList = [1, 2, 3, \"Hello\", 4]\n",
    "\n",
    "# How do you index a list?\n",
    "...\n",
    "\n",
    "# How do you add an element to a list?\n",
    "..."
   ]
  },
  {
   "cell_type": "code",
   "execution_count": null,
   "id": "OIMlkP9XMBOb",
   "metadata": {
    "id": "OIMlkP9XMBOb"
   },
   "outputs": [],
   "source": [
    "# Tuples\n",
    "myTuple = (1, 2, 3)\n",
    "\n",
    "# How to index a tuple?\n",
    "...\n",
    "\n",
    "# How to add an element to a tuple?\n",
    "..."
   ]
  },
  {
   "cell_type": "code",
   "execution_count": null,
   "id": "VHcKTydDN9zc",
   "metadata": {
    "id": "VHcKTydDN9zc"
   },
   "outputs": [],
   "source": [
    "# Dictionaries\n",
    "myDict = {\"Name\": \"Julian\", \"Degree\": \"Data Science and Decisions\"}\n",
    "\n",
    "# How to access elements?\n",
    "...\n",
    "\n",
    "# How to create new elements?\n",
    "..."
   ]
  },
  {
   "cell_type": "markdown",
   "id": "nibd0cz4NJqA",
   "metadata": {
    "id": "nibd0cz4NJqA"
   },
   "source": [
    "#### Arithmetic and Operators\n"
   ]
  },
  {
   "cell_type": "code",
   "execution_count": null,
   "id": "TS3IF-6YNnY9",
   "metadata": {
    "id": "TS3IF-6YNnY9"
   },
   "outputs": [],
   "source": [
    "# Arithmetic\n",
    "x = 1\n",
    "y = 2\n",
    "print((x - y * y / y) ** 4)"
   ]
  },
  {
   "cell_type": "code",
   "execution_count": null,
   "id": "gYw8RVLbORHX",
   "metadata": {
    "id": "gYw8RVLbORHX"
   },
   "outputs": [],
   "source": [
    "# Operators\n",
    "print(\"Does 1 equal 2: \", 1 == 2)\n",
    "\n",
    "print(\"Is 1 less than 2:\", 1 < 2)\n",
    "\n",
    "print(\"Is 1 less than 2 and equal to 5:\", (1 < 2) and (1 == 5))\n",
    "\n",
    "# Let's use operators to answer some questions\n",
    "..."
   ]
  },
  {
   "cell_type": "markdown",
   "id": "JE-_Y79oO9vq",
   "metadata": {
    "id": "JE-_Y79oO9vq"
   },
   "source": [
    "#### Python tips: What to do if you need help??!!"
   ]
  },
  {
   "cell_type": "code",
   "execution_count": null,
   "id": "Fa1GLFdFPIQ2",
   "metadata": {
    "id": "Fa1GLFdFPIQ2"
   },
   "outputs": [],
   "source": [
    "help(list)"
   ]
  },
  {
   "cell_type": "code",
   "execution_count": null,
   "id": "fancy-instrumentation",
   "metadata": {
    "id": "fancy-instrumentation"
   },
   "outputs": [],
   "source": [
    "dir(dict)"
   ]
  },
  {
   "cell_type": "markdown",
   "id": "advance-rogers",
   "metadata": {
    "id": "advance-rogers"
   },
   "source": [
    "### Control structures"
   ]
  },
  {
   "cell_type": "markdown",
   "id": "sA3QUxruPR40",
   "metadata": {
    "id": "sA3QUxruPR40"
   },
   "source": [
    "The purpose of control structure in any programming language is to control the \"flow\" of code.\n",
    "\n",
    "Control structure lets the computer do the boring repetitive stuff and gives nuance and complexity to your program!\n",
    "\n",
    "To 2 main control structures are:\n",
    "* If statements\n",
    "* For/while loops"
   ]
  },
  {
   "cell_type": "code",
   "execution_count": null,
   "id": "international-freedom",
   "metadata": {
    "id": "international-freedom"
   },
   "outputs": [],
   "source": [
    "# If Statements\n",
    "bestProgrammer = \"Noah\"\n",
    "goodProgrammer = \"Julian\"\n",
    "\n",
    "if \"Julian\" == bestProgrammer:\n",
    "  print(\"He's the best programmer!\")\n",
    "elif \"Julian\" == goodProgrammer:\n",
    "  print(\"He's not bad\")\n",
    "else:\n",
    "  print(\"He can't code :(\")"
   ]
  },
  {
   "cell_type": "code",
   "execution_count": null,
   "id": "catholic-aberdeen",
   "metadata": {
    "id": "catholic-aberdeen"
   },
   "outputs": [],
   "source": [
    "# For loops\n",
    "programmers = [\"Julian\", \"Noah\"]\n",
    "for programmer in programmers:\n",
    "  print(f\"{programmer} can code!!\")"
   ]
  },
  {
   "cell_type": "code",
   "execution_count": null,
   "id": "uhMD_qZERvh-",
   "metadata": {
    "id": "uhMD_qZERvh-"
   },
   "outputs": [],
   "source": [
    "# More for loops!?!\n",
    "for i in range(0, 10):\n",
    "  if i % 2 == 0:\n",
    "    print(f\"{i} is even!!\")\n",
    "  else:\n",
    "    print(f\"{i} is odd!\")"
   ]
  },
  {
   "cell_type": "code",
   "execution_count": null,
   "id": "2N3FEjbYSKxh",
   "metadata": {
    "id": "2N3FEjbYSKxh"
   },
   "outputs": [],
   "source": [
    "# While loops\n",
    "i = 0\n",
    "while i < 10:\n",
    "  i += 1\n",
    "print(\"If we use a while loop to increment our integer, i ends up being...\", i)"
   ]
  },
  {
   "cell_type": "markdown",
   "id": "DnyWBqnRSeRq",
   "metadata": {
    "id": "DnyWBqnRSeRq"
   },
   "source": [
    "### Let's Code!!!\n",
    "Tasks:\n",
    "\n",
    "**Ex 1.** Use a loop to display elements from a list only if the index is odd.\n",
    "\n",
    "Given: `[10, 20, 30, 40, 50, 60, 70, 80, 90, 100]` \n",
    "\n",
    "Expected Output: `20 40 60 80 100`\n",
    "\n",
    "\n",
    "**Ex 2.** Given a character and a string from the user, replace all occurences of the character in the string with #.\n",
    "\n",
    "Given: character = \"J\", string = \"Julian\"\n",
    "\n",
    "Expected Output: \"#ulian\"\n",
    "\n",
    "**Ex.3** Remove the given fields from the dataset\n",
    "\n",
    "Given: `{'name': 'Julian', 'degree': 'Data Science and Decisions', 'WAM': 42, 'Academic Standing': 'Terrible'}`\n",
    "\n",
    "Expected Output: `{'name': 'Julian', 'degree': 'Data Science and Decisions'}`\n"
   ]
  },
  {
   "cell_type": "code",
   "execution_count": null,
   "id": "rAwZw17hUep1",
   "metadata": {
    "id": "rAwZw17hUep1"
   },
   "outputs": [],
   "source": [
    "# Ex 1. (hint: use the function enumerate())\n",
    "myList = [10, 20, 30, 40, 50, 60, 70, 80, 90, 100]\n",
    "\n",
    "# CODE HERE..."
   ]
  },
  {
   "cell_type": "code",
   "execution_count": null,
   "id": "JvdMO7rEVxRg",
   "metadata": {
    "id": "JvdMO7rEVxRg"
   },
   "outputs": [],
   "source": [
    "# Ex 2.\n",
    "\n",
    "# CODE HERE...\n",
    "\n",
    "str = \"dwert\"\n"
   ]
  },
  {
   "cell_type": "code",
   "execution_count": null,
   "id": "NXpT-eLSXvJT",
   "metadata": {
    "id": "NXpT-eLSXvJT"
   },
   "outputs": [],
   "source": [
    "# Ex 3. (hint: try using dir() on the dictionary class and see what attributes are available)\n",
    "unswDataset = {\n",
    "    \"name\": \"Julian\",\n",
    "    \"degree\": \"Data Science and Decisions\",\n",
    "    \"WAM\": 42,\n",
    "    \"Academic Standing\": \"Terrible\"\n",
    "}\n",
    "\n",
    "# Keys to remove\n",
    "fields = [\"WAM\", \"Academic Standing\"]\n",
    "\n",
    "# CODE HERE"
   ]
  },
  {
   "cell_type": "markdown",
   "id": "charged-yugoslavia",
   "metadata": {},
   "source": [
    "### Functions\n",
    "\n",
    "- Simply put, functions are chunks of code that are only run when called\n",
    "- They can be used throughout your program in various places, whether is to perform a task or calculation\n",
    "- You can pass function **parameters** if you wish, but it is not essential and there are situations where you will not need them\n",
    "- Functions can also return data to you, but they don't always have to do this.\n",
    "- The truly remarkable thing about functions in python is that they generate multiple outputs!!"
   ]
  },
  {
   "cell_type": "markdown",
   "id": "handed-station",
   "metadata": {},
   "source": [
    "#### Task 🧠: Create a function that does absolutely nothing"
   ]
  },
  {
   "cell_type": "code",
   "execution_count": null,
   "id": "divided-tender",
   "metadata": {},
   "outputs": [],
   "source": [
    "def my_func():\n",
    "    pass"
   ]
  },
  {
   "cell_type": "markdown",
   "id": "compact-texas",
   "metadata": {},
   "source": [
    "#### Task 🧠: Create a function that extracts all the names that begin with [letter]:"
   ]
  },
  {
   "cell_type": "code",
   "execution_count": null,
   "id": "agricultural-heather",
   "metadata": {},
   "outputs": [],
   "source": [
    "def extract_names(my_list, letter):\n",
    "    \"\"\"Extract everyone who begains with [letter] and places into a new list\"\"\"\n",
    "    new_list = []\n",
    "    for n in my_list:\n",
    "        # Strip whitespace in case we get a name like '   john  ' and then convert to title so that we don't get 'john'\n",
    "        name = n.strip().title()\n",
    "        if name.startswith(letter.upper()):\n",
    "            new_list.append(name)\n",
    "    return new_list"
   ]
  },
  {
   "cell_type": "code",
   "execution_count": null,
   "id": "surface-fitting",
   "metadata": {},
   "outputs": [],
   "source": [
    "extract_names(['   John     ', 'Stacey', 'jack  ', 'Noah'], 'N')"
   ]
  },
  {
   "cell_type": "markdown",
   "id": "unable-miniature",
   "metadata": {},
   "source": [
    "#### Task 🧠: Create a function that sends a this long message:\n",
    "\n",
    "---\n",
    "\n",
    "\"Dear [NAME],\n",
    "\n",
    "I recently applied for a job opening at [COMPANY NAME] for the position of [POSITION NAME] on your online career site.\n",
    "\n",
    "I’d love to set up a time to schedule a call and talk about the position and my experience. I have some availability next week would really appreciate any opportunity to commmunicate about this further with you.\n",
    "\n",
    "Sincerely,\n",
    "\n",
    "[YOUR NAME]\""
   ]
  },
  {
   "cell_type": "code",
   "execution_count": null,
   "id": "british-banana",
   "metadata": {},
   "outputs": [],
   "source": [
    "def structure_email(hiring_manager, company, position_name, your_name):\n",
    "    \"\"\"Structures an email\"\"\"\n",
    "    intro = f\"Dear {hiring_manager},\\nI recently applied for a job opening at {company} for the position of {position_name} on your online career site.\\n\\n\"\n",
    "    body = f\"I’d love to set up a time to schedule a call and talk about the my experience, and would really appreciate any opportunity to commmunicate about this further with you\\n\\n\"\n",
    "    conclusion = f\"Sincerely,\\n{your_name}\"\n",
    "    \n",
    "    return intro + body + conclusion\n"
   ]
  },
  {
   "cell_type": "code",
   "execution_count": null,
   "id": "equipped-elimination",
   "metadata": {},
   "outputs": [],
   "source": [
    "print(structure_email('Dr. Smith', 'Nike', 'Data Scientist', 'Noah Rubin'))"
   ]
  },
  {
   "cell_type": "markdown",
   "id": "cooked-button",
   "metadata": {},
   "source": [
    "### External Libraries:\n",
    "- Pandas is arguably the gold standard for analysing small-medium sized data sets in python\n",
    "- Um, why not just use excel?! \n",
    "- The problem is that excel can only handle 1,048,576 rows and 16,384 columns in a worksheet, so it really struggles as the amount of data increases\n",
    "- Pandas can handle millions of rows with ease, and is far more versatile too as you are not just restricted to point anbd click type software\n",
    "\n",
    "Here we will **very** gently introduce pandas and how knowledge of basic python can go a long way"
   ]
  },
  {
   "cell_type": "code",
   "execution_count": null,
   "id": "indonesian-leeds",
   "metadata": {},
   "outputs": [],
   "source": [
    "# In the line below, you might need to delete the '#' symbol and run the code\n",
    "# !pip install pandas "
   ]
  },
  {
   "cell_type": "code",
   "execution_count": null,
   "id": "parental-barrel",
   "metadata": {},
   "outputs": [],
   "source": [
    "import pandas as pd"
   ]
  },
  {
   "cell_type": "code",
   "execution_count": null,
   "id": "sufficient-peoples",
   "metadata": {},
   "outputs": [],
   "source": [
    "orders = pd.read_csv('store.csv')\n",
    "orders.head()"
   ]
  },
  {
   "cell_type": "markdown",
   "id": "duplicate-helping",
   "metadata": {},
   "source": [
    "#### Task 🧠: \n",
    "Select only the `City` and `Sub-Category` columns and display them to the screen"
   ]
  },
  {
   "cell_type": "code",
   "execution_count": null,
   "id": "associate-thanks",
   "metadata": {},
   "outputs": [],
   "source": [
    "orders[['City', 'Sub-Category']]"
   ]
  },
  {
   "cell_type": "markdown",
   "id": "wireless-survivor",
   "metadata": {},
   "source": [
    "#### Task 🧠: \n",
    "Create a column called `Revenue` that multiplies `Sales` and `Quantity`"
   ]
  },
  {
   "cell_type": "code",
   "execution_count": null,
   "id": "tamil-channel",
   "metadata": {},
   "outputs": [],
   "source": [
    "orders['Revenue'] = orders['Sales'] * orders['Quantity']"
   ]
  },
  {
   "cell_type": "code",
   "execution_count": null,
   "id": "sunrise-sleep",
   "metadata": {},
   "outputs": [],
   "source": [
    "orders.head()"
   ]
  },
  {
   "cell_type": "markdown",
   "id": "republican-lodging",
   "metadata": {},
   "source": [
    "Find all Furtinute Sales"
   ]
  },
  {
   "cell_type": "markdown",
   "id": "registered-pledge",
   "metadata": {},
   "source": [
    "#### Task 🧠: \n",
    "Use python dictionaries to rename `Order Date` to `Date` and `Product Name` to product"
   ]
  },
  {
   "cell_type": "code",
   "execution_count": null,
   "id": "express-blast",
   "metadata": {},
   "outputs": [],
   "source": [
    "orders = orders.rename(columns={'Order Date': 'Date', 'Product Name': 'Product'})"
   ]
  }
 ],
 "metadata": {
  "colab": {
   "name": "IntroPython2022.ipynb",
   "provenance": []
  },
  "kernelspec": {
   "display_name": "Python 3",
   "language": "python",
   "name": "python3"
  },
  "language_info": {
   "codemirror_mode": {
    "name": "ipython",
    "version": 3
   },
   "file_extension": ".py",
   "mimetype": "text/x-python",
   "name": "python",
   "nbconvert_exporter": "python",
   "pygments_lexer": "ipython3",
   "version": "3.8.2"
  }
 },
 "nbformat": 4,
 "nbformat_minor": 5
}
