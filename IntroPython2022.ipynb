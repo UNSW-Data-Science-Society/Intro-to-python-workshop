{
 "cells": [
  {
   "cell_type": "markdown",
   "id": "digital-synthetic",
   "metadata": {},
   "source": [
    "# Intro to Python 2022\n",
    "\n",
    "By Julian Garratt, Aarthi Kumararaja and Noah Rubin\n"
   ]
  },
  {
   "cell_type": "markdown",
   "id": "worst-poetry",
   "metadata": {},
   "source": [
    "###  Print/input statements:"
   ]
  },
  {
   "cell_type": "code",
   "execution_count": null,
   "id": "sustained-outside",
   "metadata": {},
   "outputs": [],
   "source": []
  },
  {
   "cell_type": "code",
   "execution_count": null,
   "id": "aboriginal-sherman",
   "metadata": {},
   "outputs": [],
   "source": []
  },
  {
   "cell_type": "markdown",
   "id": "controlling-bahamas",
   "metadata": {},
   "source": [
    "### Variables/data types"
   ]
  },
  {
   "cell_type": "code",
   "execution_count": null,
   "id": "theoretical-tulsa",
   "metadata": {},
   "outputs": [],
   "source": []
  },
  {
   "cell_type": "code",
   "execution_count": null,
   "id": "upset-decimal",
   "metadata": {},
   "outputs": [],
   "source": []
  },
  {
   "cell_type": "markdown",
   "id": "appropriate-begin",
   "metadata": {},
   "source": [
    "### Aside: Pythonic Syntactic Sugar"
   ]
  },
  {
   "cell_type": "code",
   "execution_count": null,
   "id": "fancy-instrumentation",
   "metadata": {},
   "outputs": [],
   "source": []
  },
  {
   "cell_type": "code",
   "execution_count": null,
   "id": "instrumental-worthy",
   "metadata": {},
   "outputs": [],
   "source": []
  },
  {
   "cell_type": "markdown",
   "id": "advance-rogers",
   "metadata": {},
   "source": [
    "### Control structures"
   ]
  },
  {
   "cell_type": "code",
   "execution_count": null,
   "id": "international-freedom",
   "metadata": {},
   "outputs": [],
   "source": []
  },
  {
   "cell_type": "code",
   "execution_count": null,
   "id": "catholic-aberdeen",
   "metadata": {},
   "outputs": [],
   "source": []
  },
  {
   "cell_type": "markdown",
   "id": "growing-theater",
   "metadata": {},
   "source": [
    "### Functions\n",
    "\n",
    "Small paragraph"
   ]
  },
  {
   "cell_type": "markdown",
   "id": "normal-chapel",
   "metadata": {},
   "source": [
    "Q: Find xxx"
   ]
  },
  {
   "cell_type": "code",
   "execution_count": null,
   "id": "current-procedure",
   "metadata": {},
   "outputs": [],
   "source": []
  },
  {
   "cell_type": "code",
   "execution_count": null,
   "id": "absent-explanation",
   "metadata": {},
   "outputs": [],
   "source": []
  },
  {
   "cell_type": "markdown",
   "id": "measured-kingston",
   "metadata": {},
   "source": [
    "### ExternalPandas/Plotting:"
   ]
  },
  {
   "cell_type": "code",
   "execution_count": null,
   "id": "colonial-hospital",
   "metadata": {},
   "outputs": [],
   "source": []
  },
  {
   "cell_type": "code",
   "execution_count": null,
   "id": "abandoned-sheep",
   "metadata": {},
   "outputs": [],
   "source": []
  }
 ],
 "metadata": {
  "kernelspec": {
   "display_name": "Python 3",
   "language": "python",
   "name": "python3"
  },
  "language_info": {
   "codemirror_mode": {
    "name": "ipython",
    "version": 3
   },
   "file_extension": ".py",
   "mimetype": "text/x-python",
   "name": "python",
   "nbconvert_exporter": "python",
   "pygments_lexer": "ipython3",
   "version": "3.8.2"
  }
 },
 "nbformat": 4,
 "nbformat_minor": 5
}
